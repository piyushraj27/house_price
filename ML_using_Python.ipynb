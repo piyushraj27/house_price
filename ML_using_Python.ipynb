{
  "nbformat": 4,
  "nbformat_minor": 0,
  "metadata": {
    "kernelspec": {
      "display_name": "Python 3",
      "language": "python",
      "name": "python3"
    },
    "language_info": {
      "codemirror_mode": {
        "name": "ipython",
        "version": 3
      },
      "file_extension": ".py",
      "mimetype": "text/x-python",
      "name": "python",
      "nbconvert_exporter": "python",
      "pygments_lexer": "ipython3",
      "version": "3.7.6"
    },
    "colab": {
      "name": "ML using Python.ipynb",
      "provenance": [],
      "include_colab_link": true
    }
  },
  "cells": [
    {
      "cell_type": "markdown",
      "metadata": {
        "id": "view-in-github",
        "colab_type": "text"
      },
      "source": [
        "<a href=\"https://colab.research.google.com/github/piyushraj27/house_price/blob/main/ML_using_Python.ipynb\" target=\"_parent\"><img src=\"https://colab.research.google.com/assets/colab-badge.svg\" alt=\"Open In Colab\"/></a>"
      ]
    },
    {
      "cell_type": "code",
      "metadata": {
        "id": "3mNeFGNnGUbK"
      },
      "source": [
        "import numpy as np\n",
        "import pandas as pd    \n",
        "import matplotlib as mpl   \n",
        "import matplotlib.pyplot as plt  \n",
        "from matplotlib.animation import FuncAnimation"
      ],
      "execution_count": null,
      "outputs": []
    },
    {
      "cell_type": "code",
      "metadata": {
        "id": "iMFYczC1GUbQ"
      },
      "source": [
        "from sklearn.datasets import load_boston\n",
        "from sklearn.metrics import mean_squared_error\n",
        "from sklearn.model_selection import train_test_split\n",
        "from sklearn.preprocessing import MinMaxScaler\n",
        "\n",
        "from IPython.display import HTML"
      ],
      "execution_count": null,
      "outputs": []
    },
    {
      "cell_type": "markdown",
      "metadata": {
        "id": "C2K2ncl_GUbS"
      },
      "source": [
        "# Data Preprocessing"
      ]
    },
    {
      "cell_type": "code",
      "metadata": {
        "id": "0g636lJvGUbT",
        "outputId": "cc943c5d-3cc2-46ca-dfe1-31e517e09a98"
      },
      "source": [
        "#Load the dataset\n",
        "boston = load_boston()\n",
        "#Description of dataset\n",
        "print(boston.DESCR)              "
      ],
      "execution_count": null,
      "outputs": [
        {
          "output_type": "stream",
          "text": [
            ".. _boston_dataset:\n",
            "\n",
            "Boston house prices dataset\n",
            "---------------------------\n",
            "\n",
            "**Data Set Characteristics:**  \n",
            "\n",
            "    :Number of Instances: 506 \n",
            "\n",
            "    :Number of Attributes: 13 numeric/categorical predictive. Median Value (attribute 14) is usually the target.\n",
            "\n",
            "    :Attribute Information (in order):\n",
            "        - CRIM     per capita crime rate by town\n",
            "        - ZN       proportion of residential land zoned for lots over 25,000 sq.ft.\n",
            "        - INDUS    proportion of non-retail business acres per town\n",
            "        - CHAS     Charles River dummy variable (= 1 if tract bounds river; 0 otherwise)\n",
            "        - NOX      nitric oxides concentration (parts per 10 million)\n",
            "        - RM       average number of rooms per dwelling\n",
            "        - AGE      proportion of owner-occupied units built prior to 1940\n",
            "        - DIS      weighted distances to five Boston employment centres\n",
            "        - RAD      index of accessibility to radial highways\n",
            "        - TAX      full-value property-tax rate per $10,000\n",
            "        - PTRATIO  pupil-teacher ratio by town\n",
            "        - B        1000(Bk - 0.63)^2 where Bk is the proportion of blacks by town\n",
            "        - LSTAT    % lower status of the population\n",
            "        - MEDV     Median value of owner-occupied homes in $1000's\n",
            "\n",
            "    :Missing Attribute Values: None\n",
            "\n",
            "    :Creator: Harrison, D. and Rubinfeld, D.L.\n",
            "\n",
            "This is a copy of UCI ML housing dataset.\n",
            "https://archive.ics.uci.edu/ml/machine-learning-databases/housing/\n",
            "\n",
            "\n",
            "This dataset was taken from the StatLib library which is maintained at Carnegie Mellon University.\n",
            "\n",
            "The Boston house-price data of Harrison, D. and Rubinfeld, D.L. 'Hedonic\n",
            "prices and the demand for clean air', J. Environ. Economics & Management,\n",
            "vol.5, 81-102, 1978.   Used in Belsley, Kuh & Welsch, 'Regression diagnostics\n",
            "...', Wiley, 1980.   N.B. Various transformations are used in the table on\n",
            "pages 244-261 of the latter.\n",
            "\n",
            "The Boston house-price data has been used in many machine learning papers that address regression\n",
            "problems.   \n",
            "     \n",
            ".. topic:: References\n",
            "\n",
            "   - Belsley, Kuh & Welsch, 'Regression diagnostics: Identifying Influential Data and Sources of Collinearity', Wiley, 1980. 244-261.\n",
            "   - Quinlan,R. (1993). Combining Instance-Based and Model-Based Learning. In Proceedings on the Tenth International Conference of Machine Learning, 236-243, University of Massachusetts, Amherst. Morgan Kaufmann.\n",
            "\n"
          ],
          "name": "stdout"
        }
      ]
    },
    {
      "cell_type": "code",
      "metadata": {
        "id": "XPHMWKI0GUbV",
        "outputId": "c6d83306-ea0e-4606-bf54-1aab6b0dd9fa"
      },
      "source": [
        "#Put data into pandas DataFrames\n",
        "features = pd.DataFrame(boston.data,columns=boston.feature_names)\n",
        "features"
      ],
      "execution_count": null,
      "outputs": [
        {
          "output_type": "execute_result",
          "data": {
            "text/html": [
              "<div>\n",
              "<style scoped>\n",
              "    .dataframe tbody tr th:only-of-type {\n",
              "        vertical-align: middle;\n",
              "    }\n",
              "\n",
              "    .dataframe tbody tr th {\n",
              "        vertical-align: top;\n",
              "    }\n",
              "\n",
              "    .dataframe thead th {\n",
              "        text-align: right;\n",
              "    }\n",
              "</style>\n",
              "<table border=\"1\" class=\"dataframe\">\n",
              "  <thead>\n",
              "    <tr style=\"text-align: right;\">\n",
              "      <th></th>\n",
              "      <th>CRIM</th>\n",
              "      <th>ZN</th>\n",
              "      <th>INDUS</th>\n",
              "      <th>CHAS</th>\n",
              "      <th>NOX</th>\n",
              "      <th>RM</th>\n",
              "      <th>AGE</th>\n",
              "      <th>DIS</th>\n",
              "      <th>RAD</th>\n",
              "      <th>TAX</th>\n",
              "      <th>PTRATIO</th>\n",
              "      <th>B</th>\n",
              "      <th>LSTAT</th>\n",
              "    </tr>\n",
              "  </thead>\n",
              "  <tbody>\n",
              "    <tr>\n",
              "      <th>0</th>\n",
              "      <td>0.00632</td>\n",
              "      <td>18.0</td>\n",
              "      <td>2.31</td>\n",
              "      <td>0.0</td>\n",
              "      <td>0.538</td>\n",
              "      <td>6.575</td>\n",
              "      <td>65.2</td>\n",
              "      <td>4.0900</td>\n",
              "      <td>1.0</td>\n",
              "      <td>296.0</td>\n",
              "      <td>15.3</td>\n",
              "      <td>396.90</td>\n",
              "      <td>4.98</td>\n",
              "    </tr>\n",
              "    <tr>\n",
              "      <th>1</th>\n",
              "      <td>0.02731</td>\n",
              "      <td>0.0</td>\n",
              "      <td>7.07</td>\n",
              "      <td>0.0</td>\n",
              "      <td>0.469</td>\n",
              "      <td>6.421</td>\n",
              "      <td>78.9</td>\n",
              "      <td>4.9671</td>\n",
              "      <td>2.0</td>\n",
              "      <td>242.0</td>\n",
              "      <td>17.8</td>\n",
              "      <td>396.90</td>\n",
              "      <td>9.14</td>\n",
              "    </tr>\n",
              "    <tr>\n",
              "      <th>2</th>\n",
              "      <td>0.02729</td>\n",
              "      <td>0.0</td>\n",
              "      <td>7.07</td>\n",
              "      <td>0.0</td>\n",
              "      <td>0.469</td>\n",
              "      <td>7.185</td>\n",
              "      <td>61.1</td>\n",
              "      <td>4.9671</td>\n",
              "      <td>2.0</td>\n",
              "      <td>242.0</td>\n",
              "      <td>17.8</td>\n",
              "      <td>392.83</td>\n",
              "      <td>4.03</td>\n",
              "    </tr>\n",
              "    <tr>\n",
              "      <th>3</th>\n",
              "      <td>0.03237</td>\n",
              "      <td>0.0</td>\n",
              "      <td>2.18</td>\n",
              "      <td>0.0</td>\n",
              "      <td>0.458</td>\n",
              "      <td>6.998</td>\n",
              "      <td>45.8</td>\n",
              "      <td>6.0622</td>\n",
              "      <td>3.0</td>\n",
              "      <td>222.0</td>\n",
              "      <td>18.7</td>\n",
              "      <td>394.63</td>\n",
              "      <td>2.94</td>\n",
              "    </tr>\n",
              "    <tr>\n",
              "      <th>4</th>\n",
              "      <td>0.06905</td>\n",
              "      <td>0.0</td>\n",
              "      <td>2.18</td>\n",
              "      <td>0.0</td>\n",
              "      <td>0.458</td>\n",
              "      <td>7.147</td>\n",
              "      <td>54.2</td>\n",
              "      <td>6.0622</td>\n",
              "      <td>3.0</td>\n",
              "      <td>222.0</td>\n",
              "      <td>18.7</td>\n",
              "      <td>396.90</td>\n",
              "      <td>5.33</td>\n",
              "    </tr>\n",
              "    <tr>\n",
              "      <th>...</th>\n",
              "      <td>...</td>\n",
              "      <td>...</td>\n",
              "      <td>...</td>\n",
              "      <td>...</td>\n",
              "      <td>...</td>\n",
              "      <td>...</td>\n",
              "      <td>...</td>\n",
              "      <td>...</td>\n",
              "      <td>...</td>\n",
              "      <td>...</td>\n",
              "      <td>...</td>\n",
              "      <td>...</td>\n",
              "      <td>...</td>\n",
              "    </tr>\n",
              "    <tr>\n",
              "      <th>501</th>\n",
              "      <td>0.06263</td>\n",
              "      <td>0.0</td>\n",
              "      <td>11.93</td>\n",
              "      <td>0.0</td>\n",
              "      <td>0.573</td>\n",
              "      <td>6.593</td>\n",
              "      <td>69.1</td>\n",
              "      <td>2.4786</td>\n",
              "      <td>1.0</td>\n",
              "      <td>273.0</td>\n",
              "      <td>21.0</td>\n",
              "      <td>391.99</td>\n",
              "      <td>9.67</td>\n",
              "    </tr>\n",
              "    <tr>\n",
              "      <th>502</th>\n",
              "      <td>0.04527</td>\n",
              "      <td>0.0</td>\n",
              "      <td>11.93</td>\n",
              "      <td>0.0</td>\n",
              "      <td>0.573</td>\n",
              "      <td>6.120</td>\n",
              "      <td>76.7</td>\n",
              "      <td>2.2875</td>\n",
              "      <td>1.0</td>\n",
              "      <td>273.0</td>\n",
              "      <td>21.0</td>\n",
              "      <td>396.90</td>\n",
              "      <td>9.08</td>\n",
              "    </tr>\n",
              "    <tr>\n",
              "      <th>503</th>\n",
              "      <td>0.06076</td>\n",
              "      <td>0.0</td>\n",
              "      <td>11.93</td>\n",
              "      <td>0.0</td>\n",
              "      <td>0.573</td>\n",
              "      <td>6.976</td>\n",
              "      <td>91.0</td>\n",
              "      <td>2.1675</td>\n",
              "      <td>1.0</td>\n",
              "      <td>273.0</td>\n",
              "      <td>21.0</td>\n",
              "      <td>396.90</td>\n",
              "      <td>5.64</td>\n",
              "    </tr>\n",
              "    <tr>\n",
              "      <th>504</th>\n",
              "      <td>0.10959</td>\n",
              "      <td>0.0</td>\n",
              "      <td>11.93</td>\n",
              "      <td>0.0</td>\n",
              "      <td>0.573</td>\n",
              "      <td>6.794</td>\n",
              "      <td>89.3</td>\n",
              "      <td>2.3889</td>\n",
              "      <td>1.0</td>\n",
              "      <td>273.0</td>\n",
              "      <td>21.0</td>\n",
              "      <td>393.45</td>\n",
              "      <td>6.48</td>\n",
              "    </tr>\n",
              "    <tr>\n",
              "      <th>505</th>\n",
              "      <td>0.04741</td>\n",
              "      <td>0.0</td>\n",
              "      <td>11.93</td>\n",
              "      <td>0.0</td>\n",
              "      <td>0.573</td>\n",
              "      <td>6.030</td>\n",
              "      <td>80.8</td>\n",
              "      <td>2.5050</td>\n",
              "      <td>1.0</td>\n",
              "      <td>273.0</td>\n",
              "      <td>21.0</td>\n",
              "      <td>396.90</td>\n",
              "      <td>7.88</td>\n",
              "    </tr>\n",
              "  </tbody>\n",
              "</table>\n",
              "<p>506 rows × 13 columns</p>\n",
              "</div>"
            ],
            "text/plain": [
              "        CRIM    ZN  INDUS  CHAS    NOX     RM   AGE     DIS  RAD    TAX  \\\n",
              "0    0.00632  18.0   2.31   0.0  0.538  6.575  65.2  4.0900  1.0  296.0   \n",
              "1    0.02731   0.0   7.07   0.0  0.469  6.421  78.9  4.9671  2.0  242.0   \n",
              "2    0.02729   0.0   7.07   0.0  0.469  7.185  61.1  4.9671  2.0  242.0   \n",
              "3    0.03237   0.0   2.18   0.0  0.458  6.998  45.8  6.0622  3.0  222.0   \n",
              "4    0.06905   0.0   2.18   0.0  0.458  7.147  54.2  6.0622  3.0  222.0   \n",
              "..       ...   ...    ...   ...    ...    ...   ...     ...  ...    ...   \n",
              "501  0.06263   0.0  11.93   0.0  0.573  6.593  69.1  2.4786  1.0  273.0   \n",
              "502  0.04527   0.0  11.93   0.0  0.573  6.120  76.7  2.2875  1.0  273.0   \n",
              "503  0.06076   0.0  11.93   0.0  0.573  6.976  91.0  2.1675  1.0  273.0   \n",
              "504  0.10959   0.0  11.93   0.0  0.573  6.794  89.3  2.3889  1.0  273.0   \n",
              "505  0.04741   0.0  11.93   0.0  0.573  6.030  80.8  2.5050  1.0  273.0   \n",
              "\n",
              "     PTRATIO       B  LSTAT  \n",
              "0       15.3  396.90   4.98  \n",
              "1       17.8  396.90   9.14  \n",
              "2       17.8  392.83   4.03  \n",
              "3       18.7  394.63   2.94  \n",
              "4       18.7  396.90   5.33  \n",
              "..       ...     ...    ...  \n",
              "501     21.0  391.99   9.67  \n",
              "502     21.0  396.90   9.08  \n",
              "503     21.0  396.90   5.64  \n",
              "504     21.0  393.45   6.48  \n",
              "505     21.0  396.90   7.88  \n",
              "\n",
              "[506 rows x 13 columns]"
            ]
          },
          "metadata": {
            "tags": []
          },
          "execution_count": 32
        }
      ]
    },
    {
      "cell_type": "code",
      "metadata": {
        "id": "MTuuziqHGUbW",
        "outputId": "38664d5c-3c1b-45e9-b5cb-abd7e549da76"
      },
      "source": [
        "target=pd.DataFrame(boston.target,columns=['target'])\n",
        "target"
      ],
      "execution_count": null,
      "outputs": [
        {
          "output_type": "execute_result",
          "data": {
            "text/html": [
              "<div>\n",
              "<style scoped>\n",
              "    .dataframe tbody tr th:only-of-type {\n",
              "        vertical-align: middle;\n",
              "    }\n",
              "\n",
              "    .dataframe tbody tr th {\n",
              "        vertical-align: top;\n",
              "    }\n",
              "\n",
              "    .dataframe thead th {\n",
              "        text-align: right;\n",
              "    }\n",
              "</style>\n",
              "<table border=\"1\" class=\"dataframe\">\n",
              "  <thead>\n",
              "    <tr style=\"text-align: right;\">\n",
              "      <th></th>\n",
              "      <th>target</th>\n",
              "    </tr>\n",
              "  </thead>\n",
              "  <tbody>\n",
              "    <tr>\n",
              "      <th>0</th>\n",
              "      <td>24.0</td>\n",
              "    </tr>\n",
              "    <tr>\n",
              "      <th>1</th>\n",
              "      <td>21.6</td>\n",
              "    </tr>\n",
              "    <tr>\n",
              "      <th>2</th>\n",
              "      <td>34.7</td>\n",
              "    </tr>\n",
              "    <tr>\n",
              "      <th>3</th>\n",
              "      <td>33.4</td>\n",
              "    </tr>\n",
              "    <tr>\n",
              "      <th>4</th>\n",
              "      <td>36.2</td>\n",
              "    </tr>\n",
              "    <tr>\n",
              "      <th>...</th>\n",
              "      <td>...</td>\n",
              "    </tr>\n",
              "    <tr>\n",
              "      <th>501</th>\n",
              "      <td>22.4</td>\n",
              "    </tr>\n",
              "    <tr>\n",
              "      <th>502</th>\n",
              "      <td>20.6</td>\n",
              "    </tr>\n",
              "    <tr>\n",
              "      <th>503</th>\n",
              "      <td>23.9</td>\n",
              "    </tr>\n",
              "    <tr>\n",
              "      <th>504</th>\n",
              "      <td>22.0</td>\n",
              "    </tr>\n",
              "    <tr>\n",
              "      <th>505</th>\n",
              "      <td>11.9</td>\n",
              "    </tr>\n",
              "  </tbody>\n",
              "</table>\n",
              "<p>506 rows × 1 columns</p>\n",
              "</div>"
            ],
            "text/plain": [
              "     target\n",
              "0      24.0\n",
              "1      21.6\n",
              "2      34.7\n",
              "3      33.4\n",
              "4      36.2\n",
              "..      ...\n",
              "501    22.4\n",
              "502    20.6\n",
              "503    23.9\n",
              "504    22.0\n",
              "505    11.9\n",
              "\n",
              "[506 rows x 1 columns]"
            ]
          },
          "metadata": {
            "tags": []
          },
          "execution_count": 33
        }
      ]
    },
    {
      "cell_type": "code",
      "metadata": {
        "id": "Xnak6n9nGUbX",
        "outputId": "f01d7c07-cc4c-4246-ad23-bf0a1e228435"
      },
      "source": [
        "max(target['target'])"
      ],
      "execution_count": null,
      "outputs": [
        {
          "output_type": "execute_result",
          "data": {
            "text/plain": [
              "50.0"
            ]
          },
          "metadata": {
            "tags": []
          },
          "execution_count": 34
        }
      ]
    },
    {
      "cell_type": "code",
      "metadata": {
        "id": "DgSr06zlGUbZ",
        "outputId": "41273463-364f-4f00-cbfe-8f6284870543"
      },
      "source": [
        "min(target['target'])"
      ],
      "execution_count": null,
      "outputs": [
        {
          "output_type": "execute_result",
          "data": {
            "text/plain": [
              "5.0"
            ]
          },
          "metadata": {
            "tags": []
          },
          "execution_count": 35
        }
      ]
    },
    {
      "cell_type": "code",
      "metadata": {
        "id": "lYekWn1XGUba",
        "outputId": "a5cbf25c-33c3-4ba6-9419-c5744dd0bf33"
      },
      "source": [
        "#Concatenate features and target into a single DataFrame\n",
        "#axis=1 makes it concatenate column wise\n",
        "df = pd.concat([features,target],axis=1)\n",
        "df"
      ],
      "execution_count": null,
      "outputs": [
        {
          "output_type": "execute_result",
          "data": {
            "text/html": [
              "<div>\n",
              "<style scoped>\n",
              "    .dataframe tbody tr th:only-of-type {\n",
              "        vertical-align: middle;\n",
              "    }\n",
              "\n",
              "    .dataframe tbody tr th {\n",
              "        vertical-align: top;\n",
              "    }\n",
              "\n",
              "    .dataframe thead th {\n",
              "        text-align: right;\n",
              "    }\n",
              "</style>\n",
              "<table border=\"1\" class=\"dataframe\">\n",
              "  <thead>\n",
              "    <tr style=\"text-align: right;\">\n",
              "      <th></th>\n",
              "      <th>CRIM</th>\n",
              "      <th>ZN</th>\n",
              "      <th>INDUS</th>\n",
              "      <th>CHAS</th>\n",
              "      <th>NOX</th>\n",
              "      <th>RM</th>\n",
              "      <th>AGE</th>\n",
              "      <th>DIS</th>\n",
              "      <th>RAD</th>\n",
              "      <th>TAX</th>\n",
              "      <th>PTRATIO</th>\n",
              "      <th>B</th>\n",
              "      <th>LSTAT</th>\n",
              "      <th>target</th>\n",
              "    </tr>\n",
              "  </thead>\n",
              "  <tbody>\n",
              "    <tr>\n",
              "      <th>0</th>\n",
              "      <td>0.00632</td>\n",
              "      <td>18.0</td>\n",
              "      <td>2.31</td>\n",
              "      <td>0.0</td>\n",
              "      <td>0.538</td>\n",
              "      <td>6.575</td>\n",
              "      <td>65.2</td>\n",
              "      <td>4.0900</td>\n",
              "      <td>1.0</td>\n",
              "      <td>296.0</td>\n",
              "      <td>15.3</td>\n",
              "      <td>396.90</td>\n",
              "      <td>4.98</td>\n",
              "      <td>24.0</td>\n",
              "    </tr>\n",
              "    <tr>\n",
              "      <th>1</th>\n",
              "      <td>0.02731</td>\n",
              "      <td>0.0</td>\n",
              "      <td>7.07</td>\n",
              "      <td>0.0</td>\n",
              "      <td>0.469</td>\n",
              "      <td>6.421</td>\n",
              "      <td>78.9</td>\n",
              "      <td>4.9671</td>\n",
              "      <td>2.0</td>\n",
              "      <td>242.0</td>\n",
              "      <td>17.8</td>\n",
              "      <td>396.90</td>\n",
              "      <td>9.14</td>\n",
              "      <td>21.6</td>\n",
              "    </tr>\n",
              "    <tr>\n",
              "      <th>2</th>\n",
              "      <td>0.02729</td>\n",
              "      <td>0.0</td>\n",
              "      <td>7.07</td>\n",
              "      <td>0.0</td>\n",
              "      <td>0.469</td>\n",
              "      <td>7.185</td>\n",
              "      <td>61.1</td>\n",
              "      <td>4.9671</td>\n",
              "      <td>2.0</td>\n",
              "      <td>242.0</td>\n",
              "      <td>17.8</td>\n",
              "      <td>392.83</td>\n",
              "      <td>4.03</td>\n",
              "      <td>34.7</td>\n",
              "    </tr>\n",
              "    <tr>\n",
              "      <th>3</th>\n",
              "      <td>0.03237</td>\n",
              "      <td>0.0</td>\n",
              "      <td>2.18</td>\n",
              "      <td>0.0</td>\n",
              "      <td>0.458</td>\n",
              "      <td>6.998</td>\n",
              "      <td>45.8</td>\n",
              "      <td>6.0622</td>\n",
              "      <td>3.0</td>\n",
              "      <td>222.0</td>\n",
              "      <td>18.7</td>\n",
              "      <td>394.63</td>\n",
              "      <td>2.94</td>\n",
              "      <td>33.4</td>\n",
              "    </tr>\n",
              "    <tr>\n",
              "      <th>4</th>\n",
              "      <td>0.06905</td>\n",
              "      <td>0.0</td>\n",
              "      <td>2.18</td>\n",
              "      <td>0.0</td>\n",
              "      <td>0.458</td>\n",
              "      <td>7.147</td>\n",
              "      <td>54.2</td>\n",
              "      <td>6.0622</td>\n",
              "      <td>3.0</td>\n",
              "      <td>222.0</td>\n",
              "      <td>18.7</td>\n",
              "      <td>396.90</td>\n",
              "      <td>5.33</td>\n",
              "      <td>36.2</td>\n",
              "    </tr>\n",
              "    <tr>\n",
              "      <th>...</th>\n",
              "      <td>...</td>\n",
              "      <td>...</td>\n",
              "      <td>...</td>\n",
              "      <td>...</td>\n",
              "      <td>...</td>\n",
              "      <td>...</td>\n",
              "      <td>...</td>\n",
              "      <td>...</td>\n",
              "      <td>...</td>\n",
              "      <td>...</td>\n",
              "      <td>...</td>\n",
              "      <td>...</td>\n",
              "      <td>...</td>\n",
              "      <td>...</td>\n",
              "    </tr>\n",
              "    <tr>\n",
              "      <th>501</th>\n",
              "      <td>0.06263</td>\n",
              "      <td>0.0</td>\n",
              "      <td>11.93</td>\n",
              "      <td>0.0</td>\n",
              "      <td>0.573</td>\n",
              "      <td>6.593</td>\n",
              "      <td>69.1</td>\n",
              "      <td>2.4786</td>\n",
              "      <td>1.0</td>\n",
              "      <td>273.0</td>\n",
              "      <td>21.0</td>\n",
              "      <td>391.99</td>\n",
              "      <td>9.67</td>\n",
              "      <td>22.4</td>\n",
              "    </tr>\n",
              "    <tr>\n",
              "      <th>502</th>\n",
              "      <td>0.04527</td>\n",
              "      <td>0.0</td>\n",
              "      <td>11.93</td>\n",
              "      <td>0.0</td>\n",
              "      <td>0.573</td>\n",
              "      <td>6.120</td>\n",
              "      <td>76.7</td>\n",
              "      <td>2.2875</td>\n",
              "      <td>1.0</td>\n",
              "      <td>273.0</td>\n",
              "      <td>21.0</td>\n",
              "      <td>396.90</td>\n",
              "      <td>9.08</td>\n",
              "      <td>20.6</td>\n",
              "    </tr>\n",
              "    <tr>\n",
              "      <th>503</th>\n",
              "      <td>0.06076</td>\n",
              "      <td>0.0</td>\n",
              "      <td>11.93</td>\n",
              "      <td>0.0</td>\n",
              "      <td>0.573</td>\n",
              "      <td>6.976</td>\n",
              "      <td>91.0</td>\n",
              "      <td>2.1675</td>\n",
              "      <td>1.0</td>\n",
              "      <td>273.0</td>\n",
              "      <td>21.0</td>\n",
              "      <td>396.90</td>\n",
              "      <td>5.64</td>\n",
              "      <td>23.9</td>\n",
              "    </tr>\n",
              "    <tr>\n",
              "      <th>504</th>\n",
              "      <td>0.10959</td>\n",
              "      <td>0.0</td>\n",
              "      <td>11.93</td>\n",
              "      <td>0.0</td>\n",
              "      <td>0.573</td>\n",
              "      <td>6.794</td>\n",
              "      <td>89.3</td>\n",
              "      <td>2.3889</td>\n",
              "      <td>1.0</td>\n",
              "      <td>273.0</td>\n",
              "      <td>21.0</td>\n",
              "      <td>393.45</td>\n",
              "      <td>6.48</td>\n",
              "      <td>22.0</td>\n",
              "    </tr>\n",
              "    <tr>\n",
              "      <th>505</th>\n",
              "      <td>0.04741</td>\n",
              "      <td>0.0</td>\n",
              "      <td>11.93</td>\n",
              "      <td>0.0</td>\n",
              "      <td>0.573</td>\n",
              "      <td>6.030</td>\n",
              "      <td>80.8</td>\n",
              "      <td>2.5050</td>\n",
              "      <td>1.0</td>\n",
              "      <td>273.0</td>\n",
              "      <td>21.0</td>\n",
              "      <td>396.90</td>\n",
              "      <td>7.88</td>\n",
              "      <td>11.9</td>\n",
              "    </tr>\n",
              "  </tbody>\n",
              "</table>\n",
              "<p>506 rows × 14 columns</p>\n",
              "</div>"
            ],
            "text/plain": [
              "        CRIM    ZN  INDUS  CHAS    NOX     RM   AGE     DIS  RAD    TAX  \\\n",
              "0    0.00632  18.0   2.31   0.0  0.538  6.575  65.2  4.0900  1.0  296.0   \n",
              "1    0.02731   0.0   7.07   0.0  0.469  6.421  78.9  4.9671  2.0  242.0   \n",
              "2    0.02729   0.0   7.07   0.0  0.469  7.185  61.1  4.9671  2.0  242.0   \n",
              "3    0.03237   0.0   2.18   0.0  0.458  6.998  45.8  6.0622  3.0  222.0   \n",
              "4    0.06905   0.0   2.18   0.0  0.458  7.147  54.2  6.0622  3.0  222.0   \n",
              "..       ...   ...    ...   ...    ...    ...   ...     ...  ...    ...   \n",
              "501  0.06263   0.0  11.93   0.0  0.573  6.593  69.1  2.4786  1.0  273.0   \n",
              "502  0.04527   0.0  11.93   0.0  0.573  6.120  76.7  2.2875  1.0  273.0   \n",
              "503  0.06076   0.0  11.93   0.0  0.573  6.976  91.0  2.1675  1.0  273.0   \n",
              "504  0.10959   0.0  11.93   0.0  0.573  6.794  89.3  2.3889  1.0  273.0   \n",
              "505  0.04741   0.0  11.93   0.0  0.573  6.030  80.8  2.5050  1.0  273.0   \n",
              "\n",
              "     PTRATIO       B  LSTAT  target  \n",
              "0       15.3  396.90   4.98    24.0  \n",
              "1       17.8  396.90   9.14    21.6  \n",
              "2       17.8  392.83   4.03    34.7  \n",
              "3       18.7  394.63   2.94    33.4  \n",
              "4       18.7  396.90   5.33    36.2  \n",
              "..       ...     ...    ...     ...  \n",
              "501     21.0  391.99   9.67    22.4  \n",
              "502     21.0  396.90   9.08    20.6  \n",
              "503     21.0  396.90   5.64    23.9  \n",
              "504     21.0  393.45   6.48    22.0  \n",
              "505     21.0  396.90   7.88    11.9  \n",
              "\n",
              "[506 rows x 14 columns]"
            ]
          },
          "metadata": {
            "tags": []
          },
          "execution_count": 36
        }
      ]
    },
    {
      "cell_type": "markdown",
      "metadata": {
        "id": "PFUwf3BHGUbc"
      },
      "source": [
        "# Data Visualization"
      ]
    },
    {
      "cell_type": "code",
      "metadata": {
        "id": "WjZEgon-GUbd",
        "outputId": "e597b254-7dcd-42df-f643-2c05e96ed9fe"
      },
      "source": [
        "#Use round(decimals=2) to set the precision to 2 decimal places\n",
        "df.describe().round(decimals=2)"
      ],
      "execution_count": null,
      "outputs": [
        {
          "output_type": "execute_result",
          "data": {
            "text/html": [
              "<div>\n",
              "<style scoped>\n",
              "    .dataframe tbody tr th:only-of-type {\n",
              "        vertical-align: middle;\n",
              "    }\n",
              "\n",
              "    .dataframe tbody tr th {\n",
              "        vertical-align: top;\n",
              "    }\n",
              "\n",
              "    .dataframe thead th {\n",
              "        text-align: right;\n",
              "    }\n",
              "</style>\n",
              "<table border=\"1\" class=\"dataframe\">\n",
              "  <thead>\n",
              "    <tr style=\"text-align: right;\">\n",
              "      <th></th>\n",
              "      <th>CRIM</th>\n",
              "      <th>ZN</th>\n",
              "      <th>INDUS</th>\n",
              "      <th>CHAS</th>\n",
              "      <th>NOX</th>\n",
              "      <th>RM</th>\n",
              "      <th>AGE</th>\n",
              "      <th>DIS</th>\n",
              "      <th>RAD</th>\n",
              "      <th>TAX</th>\n",
              "      <th>PTRATIO</th>\n",
              "      <th>B</th>\n",
              "      <th>LSTAT</th>\n",
              "      <th>target</th>\n",
              "    </tr>\n",
              "  </thead>\n",
              "  <tbody>\n",
              "    <tr>\n",
              "      <th>count</th>\n",
              "      <td>506.00</td>\n",
              "      <td>506.00</td>\n",
              "      <td>506.00</td>\n",
              "      <td>506.00</td>\n",
              "      <td>506.00</td>\n",
              "      <td>506.00</td>\n",
              "      <td>506.00</td>\n",
              "      <td>506.00</td>\n",
              "      <td>506.00</td>\n",
              "      <td>506.00</td>\n",
              "      <td>506.00</td>\n",
              "      <td>506.00</td>\n",
              "      <td>506.00</td>\n",
              "      <td>506.00</td>\n",
              "    </tr>\n",
              "    <tr>\n",
              "      <th>mean</th>\n",
              "      <td>3.61</td>\n",
              "      <td>11.36</td>\n",
              "      <td>11.14</td>\n",
              "      <td>0.07</td>\n",
              "      <td>0.55</td>\n",
              "      <td>6.28</td>\n",
              "      <td>68.57</td>\n",
              "      <td>3.80</td>\n",
              "      <td>9.55</td>\n",
              "      <td>408.24</td>\n",
              "      <td>18.46</td>\n",
              "      <td>356.67</td>\n",
              "      <td>12.65</td>\n",
              "      <td>22.53</td>\n",
              "    </tr>\n",
              "    <tr>\n",
              "      <th>std</th>\n",
              "      <td>8.60</td>\n",
              "      <td>23.32</td>\n",
              "      <td>6.86</td>\n",
              "      <td>0.25</td>\n",
              "      <td>0.12</td>\n",
              "      <td>0.70</td>\n",
              "      <td>28.15</td>\n",
              "      <td>2.11</td>\n",
              "      <td>8.71</td>\n",
              "      <td>168.54</td>\n",
              "      <td>2.16</td>\n",
              "      <td>91.29</td>\n",
              "      <td>7.14</td>\n",
              "      <td>9.20</td>\n",
              "    </tr>\n",
              "    <tr>\n",
              "      <th>min</th>\n",
              "      <td>0.01</td>\n",
              "      <td>0.00</td>\n",
              "      <td>0.46</td>\n",
              "      <td>0.00</td>\n",
              "      <td>0.38</td>\n",
              "      <td>3.56</td>\n",
              "      <td>2.90</td>\n",
              "      <td>1.13</td>\n",
              "      <td>1.00</td>\n",
              "      <td>187.00</td>\n",
              "      <td>12.60</td>\n",
              "      <td>0.32</td>\n",
              "      <td>1.73</td>\n",
              "      <td>5.00</td>\n",
              "    </tr>\n",
              "    <tr>\n",
              "      <th>25%</th>\n",
              "      <td>0.08</td>\n",
              "      <td>0.00</td>\n",
              "      <td>5.19</td>\n",
              "      <td>0.00</td>\n",
              "      <td>0.45</td>\n",
              "      <td>5.89</td>\n",
              "      <td>45.02</td>\n",
              "      <td>2.10</td>\n",
              "      <td>4.00</td>\n",
              "      <td>279.00</td>\n",
              "      <td>17.40</td>\n",
              "      <td>375.38</td>\n",
              "      <td>6.95</td>\n",
              "      <td>17.02</td>\n",
              "    </tr>\n",
              "    <tr>\n",
              "      <th>50%</th>\n",
              "      <td>0.26</td>\n",
              "      <td>0.00</td>\n",
              "      <td>9.69</td>\n",
              "      <td>0.00</td>\n",
              "      <td>0.54</td>\n",
              "      <td>6.21</td>\n",
              "      <td>77.50</td>\n",
              "      <td>3.21</td>\n",
              "      <td>5.00</td>\n",
              "      <td>330.00</td>\n",
              "      <td>19.05</td>\n",
              "      <td>391.44</td>\n",
              "      <td>11.36</td>\n",
              "      <td>21.20</td>\n",
              "    </tr>\n",
              "    <tr>\n",
              "      <th>75%</th>\n",
              "      <td>3.68</td>\n",
              "      <td>12.50</td>\n",
              "      <td>18.10</td>\n",
              "      <td>0.00</td>\n",
              "      <td>0.62</td>\n",
              "      <td>6.62</td>\n",
              "      <td>94.07</td>\n",
              "      <td>5.19</td>\n",
              "      <td>24.00</td>\n",
              "      <td>666.00</td>\n",
              "      <td>20.20</td>\n",
              "      <td>396.22</td>\n",
              "      <td>16.96</td>\n",
              "      <td>25.00</td>\n",
              "    </tr>\n",
              "    <tr>\n",
              "      <th>max</th>\n",
              "      <td>88.98</td>\n",
              "      <td>100.00</td>\n",
              "      <td>27.74</td>\n",
              "      <td>1.00</td>\n",
              "      <td>0.87</td>\n",
              "      <td>8.78</td>\n",
              "      <td>100.00</td>\n",
              "      <td>12.13</td>\n",
              "      <td>24.00</td>\n",
              "      <td>711.00</td>\n",
              "      <td>22.00</td>\n",
              "      <td>396.90</td>\n",
              "      <td>37.97</td>\n",
              "      <td>50.00</td>\n",
              "    </tr>\n",
              "  </tbody>\n",
              "</table>\n",
              "</div>"
            ],
            "text/plain": [
              "         CRIM      ZN   INDUS    CHAS     NOX      RM     AGE     DIS     RAD  \\\n",
              "count  506.00  506.00  506.00  506.00  506.00  506.00  506.00  506.00  506.00   \n",
              "mean     3.61   11.36   11.14    0.07    0.55    6.28   68.57    3.80    9.55   \n",
              "std      8.60   23.32    6.86    0.25    0.12    0.70   28.15    2.11    8.71   \n",
              "min      0.01    0.00    0.46    0.00    0.38    3.56    2.90    1.13    1.00   \n",
              "25%      0.08    0.00    5.19    0.00    0.45    5.89   45.02    2.10    4.00   \n",
              "50%      0.26    0.00    9.69    0.00    0.54    6.21   77.50    3.21    5.00   \n",
              "75%      3.68   12.50   18.10    0.00    0.62    6.62   94.07    5.19   24.00   \n",
              "max     88.98  100.00   27.74    1.00    0.87    8.78  100.00   12.13   24.00   \n",
              "\n",
              "          TAX  PTRATIO       B   LSTAT  target  \n",
              "count  506.00   506.00  506.00  506.00  506.00  \n",
              "mean   408.24    18.46  356.67   12.65   22.53  \n",
              "std    168.54     2.16   91.29    7.14    9.20  \n",
              "min    187.00    12.60    0.32    1.73    5.00  \n",
              "25%    279.00    17.40  375.38    6.95   17.02  \n",
              "50%    330.00    19.05  391.44   11.36   21.20  \n",
              "75%    666.00    20.20  396.22   16.96   25.00  \n",
              "max    711.00    22.00  396.90   37.97   50.00  "
            ]
          },
          "metadata": {
            "tags": []
          },
          "execution_count": 37
        }
      ]
    },
    {
      "cell_type": "markdown",
      "metadata": {
        "id": "3oB7Ci1DGUbe"
      },
      "source": [
        "Correlation between target and attributes"
      ]
    },
    {
      "cell_type": "code",
      "metadata": {
        "id": "drjCbgBQGUbe",
        "outputId": "c147b80f-89a1-4e29-fe7a-64b5638a06bd"
      },
      "source": [
        "#Calculate correlation between every column on the data\n",
        "corr=df.corr('pearson')\n",
        "\n",
        "#Take absolute values of correlation\n",
        "corrs=[abs(corr[attr]['target']) for attr in list(features)]\n",
        "\n",
        "#Make list of pairs[(corr,feature)]\n",
        "l=list(zip(corrs,list(features)))\n",
        "\n",
        "#Sort the list of pairs in reverse order \n",
        "#with the correlation value as the key of sorting\n",
        "l.sort(key = lambda x : x[0],reverse = True)\n",
        "\n",
        "#'Unzip' pairs to two lists\n",
        "#zip(*l) takes list like [[a,b,c],[d,e,f],[g,h,i]] and returns [[a,d,g],[b,e,h],[c,f,i]]\n",
        "corrs,labels=list(zip((*l)))\n",
        "\n",
        "#Now plot correlation with respect to target variable using bar graph\n",
        "index=np.arange(len(labels))\n",
        "plt.figure(figsize=(15,5))\n",
        "plt.bar(index,corrs,width=0.5)\n",
        "plt.xlabel('Atrributes')\n",
        "plt.ylabel('corr with target value')\n",
        "plt.xticks(index,labels)\n",
        "plt.show()"
      ],
      "execution_count": null,
      "outputs": [
        {
          "output_type": "display_data",
          "data": {
            "image/png": "[encoded data removed]",
            "text/plain": [
              "<Figure size 1080x360 with 1 Axes>"
            ]
          },
          "metadata": {
            "tags": [],
            "needs_background": "light"
          }
        }
      ]
    },
    {
      "cell_type": "markdown",
      "metadata": {
        "id": "eskGIR2FGUbf"
      },
      "source": [
        "# Normalize the data"
      ]
    },
    {
      "cell_type": "markdown",
      "metadata": {
        "id": "b1KGWZyUGUbg"
      },
      "source": [
        "Normalize the data with MinMax scaler"
      ]
    },
    {
      "cell_type": "code",
      "metadata": {
        "id": "kHoqxktuGUbg"
      },
      "source": [
        "X=df['CRIM'].values\n",
        "Y=df['target'].values"
      ],
      "execution_count": null,
      "outputs": []
    },
    {
      "cell_type": "code",
      "metadata": {
        "id": "M87IIywDGUbg",
        "outputId": "0b9f10a6-b9f7-472e-93a4-8d57c65e36b2"
      },
      "source": [
        "#Before normalization\n",
        "print(Y[:5])"
      ],
      "execution_count": null,
      "outputs": [
        {
          "output_type": "stream",
          "text": [
            "[24.  21.6 34.7 33.4 36.2]\n"
          ],
          "name": "stdout"
        }
      ]
    },
    {
      "cell_type": "code",
      "metadata": {
        "id": "VUdM_3CnGUbh"
      },
      "source": [
        "x_scaler=MinMaxScaler()\n",
        "X=x_scaler.fit_transform(X.reshape(-1,1))\n",
        "X=X[:,-1]\n",
        "\n",
        "y_scaler=MinMaxScaler()\n",
        "Y=y_scaler.fit_transform(Y.reshape(-1,1))\n",
        "Y=Y[:,-1]\n"
      ],
      "execution_count": null,
      "outputs": []
    },
    {
      "cell_type": "code",
      "metadata": {
        "id": "xHM9Pya8GUbh",
        "outputId": "3a698803-5093-4175-facb-59885d688fd8"
      },
      "source": [
        "#After normalization\n",
        "print(Y[:5])"
      ],
      "execution_count": null,
      "outputs": [
        {
          "output_type": "stream",
          "text": [
            "[0.42222222 0.36888889 0.66       0.63111111 0.69333333]\n"
          ],
          "name": "stdout"
        }
      ]
    },
    {
      "cell_type": "markdown",
      "metadata": {
        "id": "j4zm-mTKGUbi"
      },
      "source": [
        "# Split the data into fixed sets"
      ]
    },
    {
      "cell_type": "code",
      "metadata": {
        "id": "CMdh-kbHGUbi"
      },
      "source": [
        "#0.2 indicates 20% of data is randomly sampled as testing data\n",
        "xtrain,xtest,ytrain,ytest=train_test_split(X,Y,test_size=0.2)"
      ],
      "execution_count": null,
      "outputs": []
    },
    {
      "cell_type": "markdown",
      "metadata": {
        "id": "hs3ybrx6GUbj"
      },
      "source": [
        "Error function"
      ]
    },
    {
      "cell_type": "code",
      "metadata": {
        "id": "2zqEiOouGUbj"
      },
      "source": [
        "def error(m,x,c,t):\n",
        "    N=x.size\n",
        "    e=sum(((m*x+c)-t)**2)\n",
        "    return e*1/(2*N)"
      ],
      "execution_count": null,
      "outputs": []
    },
    {
      "cell_type": "markdown",
      "metadata": {
        "id": "Rg8OEFmPGUbk"
      },
      "source": [
        "Update function"
      ]
    },
    {
      "cell_type": "code",
      "metadata": {
        "id": "i0IrT6KvGUbk"
      },
      "source": [
        "def update(m,x,c,t,learning_rate):\n",
        "    grad_m=sum(2*((m*x+c)-t)*x)\n",
        "    grad_c=sum(2*((m*x+c)-t))\n",
        "    m=m-grad_m*learning_rate\n",
        "    c=c-grad_c*learning_rate\n",
        "    return m,c"
      ],
      "execution_count": null,
      "outputs": []
    },
    {
      "cell_type": "markdown",
      "metadata": {
        "id": "G4IFsZrnGUbk"
      },
      "source": [
        "Define gradient descent function"
      ]
    },
    {
      "cell_type": "code",
      "metadata": {
        "id": "zBNEHr74GUbl"
      },
      "source": [
        "def gradient_descent(init_m,init_c,x,t,learning_rate,iterations,error_threshold):\n",
        "    m=init_m\n",
        "    c=init_c\n",
        "    error_values=list()\n",
        "    mc_values=list()\n",
        "    for i in range(iterations):\n",
        "        e=error(m,x,c,t)\n",
        "        if e<error_threshold:\n",
        "            print('Error less than the threshold.Stopping Gradient Descent')\n",
        "            break\n",
        "        error_values.append(e)\n",
        "        m,c=update(m,x,c,t,learning_rate)\n",
        "        mc_values.append((m,c))\n",
        "    return m,c,error_values,mc_values"
      ],
      "execution_count": null,
      "outputs": []
    },
    {
      "cell_type": "markdown",
      "metadata": {
        "id": "Ly4xedgoGUbl"
      },
      "source": [
        "Run Gradient descent function"
      ]
    },
    {
      "cell_type": "code",
      "metadata": {
        "id": "Tif812SPGUbm",
        "outputId": "a62f6434-93e7-4348-c5be-60d3f5c2ba6a"
      },
      "source": [
        "%%time\n",
        "init_m=0.9\n",
        "init_c=0\n",
        "learning_rate=0.001\n",
        "iterations=250\n",
        "error_threshold=0.001\n",
        "m,c,error_values,mc_values=gradient_descent(init_m,init_c,xtrain,ytrain,learning_rate,iterations,error_threshold)"
      ],
      "execution_count": null,
      "outputs": [
        {
          "output_type": "stream",
          "text": [
            "Wall time: 149 ms\n"
          ],
          "name": "stdout"
        }
      ]
    },
    {
      "cell_type": "markdown",
      "metadata": {
        "id": "h6oV3-s7GUbm"
      },
      "source": [
        "Model training visualization"
      ]
    },
    {
      "cell_type": "code",
      "metadata": {
        "id": "v1RQYeZdGUbm"
      },
      "source": [
        "#As the number of iteration increases changes in the line are less noticable\n",
        "#In order to reduce the process time for animation, it is adviced to choose smaller value\n",
        "mc_values_anim=mc_values[0:250:5]"
      ],
      "execution_count": null,
      "outputs": []
    },
    {
      "cell_type": "code",
      "metadata": {
        "id": "aW98kIx7GUbn",
        "outputId": "70c008c6-0868-45db-8551-0c6f63328b97"
      },
      "source": [
        "fig,ax=plt.subplots()\n",
        "ln, = plt.plot([],[],'ro-',animated=True)\n",
        "\n",
        "def init():\n",
        "    plt.scatter(xtest,ytest,color='g')\n",
        "    ax.set_xlim(0,1.0)\n",
        "    ax.set_ylim(0,1.0)\n",
        "    return ln,\n",
        "\n",
        "def update_frame(frame):\n",
        "    m,c=mc_values_anim[frame]\n",
        "    x1,y1=-0.5,m* -0.5 +c\n",
        "    x2,y2= 1.5 , m*1.5 +c\n",
        "    ln.set_data([x1,x2],[y1,y2])\n",
        "    return ln,\n",
        "\n",
        "anim=FuncAnimation(fig,update_frame,frames=range(len(mc_values_anim)),init_func=init,blit=True)\n",
        "HTML(anim.to_html5_video())\n",
        "\n",
        "\n"
      ],
      "execution_count": null,
      "outputs": [
        {
          "output_type": "execute_result",
          "data": {
            "text/html": [
              "<video width=\"432\" height=\"288\" controls autoplay loop>\n",
              "  <source type=\"video/mp4\" src=\"data:video/mp4;base64,AAAAHGZ0eXBNNFYgAAACAGlzb21pc28yYXZjMQAAAAhmcmVlAABzx21kYXQAAAKfBgX//5vcRem9\n",
              "5tlIt5Ys2CDZI+7veDI2NCAtIGNvcmUgMTYwIC0gSC4yNjQvTVBFRy00IEFWQyBjb2RlYyAtIENv\n",
              "cHlsZWZ0IDIwMDMtMjAyMCAtIGh0dHA6Ly93d3cudmlkZW9sYW4ub3JnL3gyNjQuaHRtbCAtIG9w\n",
              "dGlvbnM6IGNhYmFjPTEgcmVmPTMgZGVibG9jaz0xOjA6MCBhbmFseXNlPTB4MzoweDExMyBtZT1o\n",
              "ZXggc3VibWU9NyBwc3k9MSBwc3lfcmQ9MS4wMDowLjAwIG1peGVkX3JlZj0xIG1lX3JhbmdlPTE2\n",
              "IGNocm9tYV9tZT0xIHRyZWxsaXM9MSA4eDhkY3Q9MSBjcW09MCBkZWFkem9uZT0yMSwxMSBmYXN0\n",
              "X3Bza2lwPTEgY2hyb21hX3FwX29mZnNldD0tMiB0aHJlYWRzPTkgbG9va2FoZWFkX3RocmVhZHM9\n",
              "MSBzbGljZWRfdGhyZWFkcz0wIG5yPTAgZGVjaW1hdGU9MSBpbnRlcmxhY2VkPTAgYmx1cmF5X2Nv\n",
              "bXBhdD0wIGNvbnN0cmFpbmVkX2ludHJhPTAgYmZyYW1lcz0zIGJfcHlyYW1pZD0yIGJfYWRhcHQ9\n",
              "MSBiX2JpYXM9MCBkaXJlY3Q9MSB3ZWlnaHRiPTEgb3Blbl9nb3A9MCB3ZWlnaHRwPTIga2V5aW50\n",
              "PTI1MCBrZXlpbnRfbWluPTUgc2NlbmVjdXQ9NDAgaW50cmFfcmVmcmVzaD0wIHJjX2xvb2thaGVh\n",
              "ZD00MCByYz1jcmYgbWJ0cmVlPTEgY3JmPTIzLjAgcWNvbXA9MC42MCBxcG1pbj0wIHFwbWF4PTY5\n",
              "IHFwc3RlcD00IGlwX3JhdGlvPTEuNDAgYXE9MToxLjAwAIAAABwwZYiEABP//vexj4FNyAANlzqK\n",
              "eh/hFbH0kFF6sdmgZOoAAAMAAImB+t/CUcLEB8IbdwbnSHdFKtn0ACG7cqpsBfIF9Cy85Nr8okxr\n",
              "R3a5VFNKb0fRNSFiwABnSxJc5tBfmCm9DCYRPk9jbprV+00xfKYoFYXtHq/e+5E6ht61oUriOFpX\n",
              "VocomTFtpscJJZPbttWkHyPc+SAHzHlbDgVMtbsGxvIf1hJY9FlUW12ir628rsIBakuARmOlN5Ny\n",
              "qFXT+AUZTF3GabHXDGuOYmKFiDL8cqXxQcDBzXwQgaBpUBd+bI+N7vUxVAtkxL/Drr3NsqyW8kyc\n",
              "hnYzw9PTEc45syokd4k7bU2Shl+jsYvpc6kRF7n5FTITDRx5qZ3Z56GNyAzia4WRl6eyqdw9Pv1r\n",
              "FnahXthmfCu8Prs1psNxprSFeSxJ2peL9UGqwCURKii6iPAtX4Bs/EW9iRJvMTtj6MLjVVwWDVIq\n",
              "v3UpCkHjWoZvyn4ACfQKzA8EjwRb3CJ/6s0KlHsZZCYMAuM5ssjyt/cOeTipkoudsNbL2f8ggEnq\n",
              "Fgt8kMlzAGcEiCdlW0qpifmh3ld/73fB/qtzDpuZdxtpX3M81Nw+mGVWqwF/5N6HarfmGxyoeySB\n",
              "lCHonj6FsQ4aoGsbIXliEAZqJ9U9zB5OAOzn+Q2Vjj6dSn5wYyOu5oQ7OlXA7kPtyRTgypAwul5v\n",
              "ww/MPmLTrh4vA9frWXSB+9ua82NRh+O7VkNFnaUFRJp3CXgVUg9NhKFckiYjEOq4pfTz9I5T7WmV\n",
              "cgarIv+htCaUAts471eIKjcaWxynwD2YmcX11unMVQlukTmxhZ7u3tluk/9GlcuwAB72/X+DN9AT\n",
              "5b0wWB3St3nwoA4j0n+52/PnM5JDPQNA6DqSRL1Gvl2ZEX3KeKaEoopah2iElnJz1LzR85f20z/F\n",
              "tYXP5V5m7qH8py8W37iL1koW06i3dkvwe0Txbxok47Ihq/JLsl5bRyaOX4ZzIXyUFz32WAftQTJo\n",
              "tBSrVys9H2XvZgb8oWxsxa+hCNTLx9Km/0qsnDvMfVml3Bm7C8oVeW9wGptg+HHGp1QCf1fxLnUg\n",
              "d3GO8g0WaJrsAozZmZketqLwWvFEBTIKhuTHzkzXY+fzlIr9YesktFyZJJMIhnUB1qXBkZUVtenr\n",
              "na1kS7SjVEzU/eM7/PLaGxT5uLziNRsxLlV2h1C30b3pJbmBWPQNLCpApi4T5qx9L9bTlrk6Eujv\n",
              "R2/b+cwvaOSg57p7vlt9v/LAzGysv024+ZGtXT/wGmUjz7Enh7myn0rPfU9vKSZHrBZDtKUvH5tl\n",
              "xzQ8miou/jdq1r7dRJxNp6LV7a0k9SuqoKGuu6WfviBYbkdn1XFw5l7lmELRSvq4j2745my+6Su1\n",
              "s4IjHKJX0kubEU349HrdPG7YPSLx/9xIlE1BdIAcCjY/V22FfwEzV01eE6y2XBTiThIqaZTmnItg\n",
              "zs6cdwwzDZkzwVA6+OB4L2ZzKmlTzxajBSIhdzOWxxdIfXd9BtNCHsBwFqJ8dZHWubi+sqqaF229\n",
              "FTSaHLWalB/6+tQl0+fXNysVJiUBs+pgQ91+VSQ4/zT+hYZ3HU15Hfln5lOqEiyoR52jUmcSevSI\n",
              "+zZK9pAO7ihoRpZMZka0TTzDKoV/7ArZdgAXhN19945MDBgKbSBM84ZAxRqUDyUAiVEF5+8W4wEC\n",
              "+LNxr9Qn16YkvA/w+9YBL104wrNSeMI125tKIb5HHQJO0zhrIMEEou61ovWQlelRUPPNIZimC/+M\n",
              "5jmG5jqW2Kh32CDMBLpX1EvLnqr/a1QgoemhNsQ6YRE97Y60Egxqi/9fUcqHBR7LluvZvTRLfAKL\n",
              "/8ciVOSbEwUZLYvcVFPtaRHn7D0XeuY+3wJXKpREWMwcIoq6zNPZobryZCLnPIrl0tuw9I701Wde\n",
              "9qqaU8YgaggKW3oUV5YQ8Y+olCmHQzIESZM+OlkjzpFwySD3YhV62/NhjbQ8muZhV6kRpM7YYEKV\n",
              "kuZ9PJCaH9pcdFoxXoLAf0b+f/VUXjZKXyjwVKEx7fcLdWx4/1ym2OHmIokgRVSNZAUvYnPXq7bt\n",
              "goEjk6Dl56yOJDTPz+YWBh9Mc+m33G69+omUTevQbzTkA6sTrb+7WfJV7DU7pIca6uljZ0zLye9U\n",
              "bzSBx2hI6b/qMXZZNgduoSNpLcg3RwqEnGiv3knxQYBBFDSfhiL0iFId38wInZSst5lDy9wCmd2/\n",
              "eSdpjUt7JatFbIDr9X+OF778v7xLI9kGDy2xqyv/hlyg/YrZxLAPXADmh56Cs129pDWYCAin1Puf\n",
              "+H9CoHFnp1kWo3ykIYPCrBpMAKZ6Zl58BKIrxyjiLGb3ILqyg0vO3xv3Pm4oyu2HNSyfZHMNSVsR\n",
              "toRl5r7NVuBcTFSITRY2bIW9LeGn+o5vpIIJQkwbq+AEMvcJ+A1NX36TVt46uk3AedTpeJ4Pl3S2\n",
              "jaY+3SqDbvqt/tvpoECODGrCxnvbKh4D5a59c6kq5uM6iuW2kuDpc4G6DAdsA3NM6Nvg3CUDXoHc\n",
              "8hYDVLgq0u5BcX8I8TRJ9Cv2y3S+zlaXgx9aiemQYnaiYBOJVXCiztVf3MEiNsiZnfU2CwiQMPpu\n",
              "Rmk4o94Z/+xAi00GmHgKg7o5mz9feU7Z3ORj3K+6Fjf7PjwwMYXpAT7k7FQ33Ag5/VhusI08ktBm\n",
              "+Mn9LJHuPuJA5EfNxc+cl7sG2vMn+30Xqr80fZzxUQPWMuSmYHlcg7g0vjqZNoebhSzAW9wd7mws\n",
              "PZJLI384QUTAk0oki8egl+eePsFUaPyDDYwlUiI+V39uu5PedqF776ezMPiGFiqJsBvgP1oobamI\n",
              "oeGMmZ9do7HHtPO7OWrUnroqJuONXrW7wIsZvFVXXIKjIUbB9AjseVVh0A/PXZvEDuNfibfuu38Z\n",
              "P55zNH2P5kStMqS9o/9BPo0mLaPOiyRENHRFYRCChWBZ5L7HRHJR3KTvpvFwQt1l97NaqAiAiKw1\n",
              "S2wpaLyu8eXqq6Russ2z55wCootpipTip1EsbLZWalkN85HuAkuhyiuIu1Yr3aRz5H2nB+TwWcvU\n",
              "ueX/eRvvDfRxmwI/cbYlcSFQXVwArOz+wzxfruAX1UJNkYxLgGNa7n6NmgMs4UW2nCqoxinICJYY\n",
              "G1OrVZM77y5Ed43a0dB+T2sjh3dkeZ5GIpshvcY5DydPcDKHSAlDyLIAtJdsBVsisvpA/Bdtdt/s\n",
              "rXhqthnZm/wMfC2aJXnzslo8Dd9rm4DAah8AQgJhLpfTatzBk/aCrN6Rh1yQRmaJkIkobIcR1Re3\n",
              "5YnIAGJ+d/h+2tzrmHj3GngyoP30vXbNZ1GjubJ0grTGM7BqRSnyTCMIowwQJsZhKHGQBGafFJ2H\n",
              "0WrrYx7Qc4tD9FyEYV2ZLUnickkS2IuH58LinrEV5eKlBlJYifXog5EjbbLC5NB6ThT1WtL12nb3\n",
              "zvVA23j44Pg5lHn7sPATFAoIYHMwF69CKAzFHCT89NaAaxxGYBz0hvepmAdgeypgnpUE2DrjbgjB\n",
              "f03TkAsnisCZ+6qAW00KoEhV79sFCbidD2Vyn8J7pZT43YJDbJC+uYAt5nLpbBOtmYHfFLemRfZy\n",
              "m4l9SykP1ftD2TVVbxtG63H8kwlJL1WXXOGWYGrWGn1qgDzOhonVbay4RYe/jw30/qpXmP4udBu4\n",
              "wJ74F4uuFyfhwA2q4AtT/id5LsKc4Bfsf+wwrFdrfDSJUD0ULgV797eQvwDT/pD0fM48ZEU0Lz4L\n",
              "FZGZBD9n+QCAs8TNj+PJaDOppSPiL41yv2EwXPB6qejn2ErVizmjjhULE2goKnM8XpS9vnzOTB0C\n",
              "nPzJwM2y2mgdF3lwtz8PrgoOpIb2bz8a/RnTeLwuAnPEZmUVLW6p/a7nLhvpwoTkOZbj7r081s4R\n",
              "v9a0cmtLEGketdR5lCbxsEL7bIS7n4jJ9GN/cruMJdSXUDy63QJ+pc5F+v0FvKqTAv1bVQwkSND1\n",
              "qEFpgURgFQmyYXSdMLFJO/PQ/J0FeBNnjvPfZqNHCaihy8RVmWce1rXxV5IpB2cQtaTVVN+Eg5/e\n",
              "O8j7sIxA6NULvLUnlmnHXUWBgUtKkzussWgG9Ng3zzLWlOPwAw3tqqC9Fg1pNyMY+mHaeF7MNvs5\n",
              "9iqzxtF53T9AXHqzvxFoDenElRNeZxpvrV5xcTqAiTRf1PvVpNFOXGY1agqWLXPj+zfzdE/fLs/R\n",
              "QOChnplUyUQX+UmBQQIRLcwqMV6J4bA5Ny0bOVUi9YCtIDOpcO610CrQq3JW1oS933yxlLzAtaa+\n",
              "xpA3zm6j/Zf9mkLkm7njzXW+85z/L2yYsE4RqyqZjkdcNw3nqb/coJxtxG3pRrVeVvQJ5RFF9kgr\n",
              "eJQjgc0LBtls1iYWwy7y6204zLceS7q/FhgSGRSjCfFEPD9NiXFqUV3Cj8Gi5TR7E0Xk4yS37LeU\n",
              "R3HDUkPSezJ8rLkrBiHHOoGXOzBoiMpTOAnnayIvPj1RrzUxR6QCaFt8gbICITKYXVWy3zbp8kFU\n",
              "tI20OxqdtVJhkLrKGw8kXtrK7v2Rntre79jBbaU6+MlqcifBnYTv7QHpTFe2zeEAj06VD0BWCPx9\n",
              "s3OZ5p2VVl/Zh435BPUdte8fos6KxeS4TbkwYItByeit3r6Oxy8B+Vx3Lppbk3cEyvfpRWoIQpQH\n",
              "tne1qEXpy0Tw9/iLfozX0C9nkT8XeXK2SYc7yR3di9k9sGRcy5KZRivsy/Oi9UVIxLysNsb8Lsh9\n",
              "Sff9hBQLFlC5AuRuWsjPrf1YD9aMxsfNi61OZtw7/BLp9xDiu/8YFur+HOOBXEQRIc+HSNKN1L31\n",
              "808gd0bXWznndQZTQ/eLuc0coOXlmKtW9nLf6PwT+OSQirfrqfLrplAYhgnSpPYyydPJGMkWXupF\n",
              "nZcNf5Yfaj3xuYskECnYZIwMXF/Yf6UnnhdzfMt3DeT3b9M0Uo5lDYt+MK1Hm0TvmCKD7FbXZQHr\n",
              "kFzwEvKf0+N4+uqZndiZLsoYhpzBEXXhv3rbK9ugU2KFZzdS9ccWBawI46PfxGkste3vZmcTVJ3q\n",
              "NSOYOvimHrKtFJ3FICqD3tP6lme+02ivodq3lyBv4ujqFYBhG8s31yQjW1bxpDpPg7OZRVdP947D\n",
              "8DhE1R5GwAl0CVOX3xnrlKpJ1X2okAl95GPbqk6kyiFtnhiSHXKOsQoCAbaNU7wpJyAzIwNuXL9V\n",
              "AXZsiok6SbIPwzclB2YvMAmr0R3DZmyG6ayMY3M7trR4CYuX6ekXpNlzBolEhbJnmldUBgEgUqOx\n",
              "fNxkHqbQkBziFgmBdnK81fGQy2ReBcUohg3DZP/6O3wDHO1Kds8HoAI/6H2uZfXsJhP6hXS8AMtM\n",
              "xXd8H/KaZHoG4cwKU/waPuQrRA7z6aNsZU4yBOQU5LnMkcYUpsVPOHZnFaYwgBhqGcqzPbO+WJam\n",
              "YEcj0QIyPk6t+kODCI8kJRLoc+cmUeY3IRYlG3il0Is5u9JXYM7P5IX/amLvjml0CBt3PML3A5FY\n",
              "A/UtXdPhtuqCLmk/Ld7Qas91Au0OHdNYPkwnjExfczFJZRO0k1JvsXA9LiigwntnEXz9UYN0uALD\n",
              "ccyYxM+LuvXGZuFuXeqnKf5gz4sBT882SyIrhFta41u0Z4jn5QTQvy7q1+9fatft1Cv+ySIfa8HA\n",
              "au6IwIfG5ifAkQlImMwEioyDmuTmKiwpOt7jXaqoXpkOpJxNtPR7iqLL75wmCt8tdPHKyjBy/jcr\n",
              "XzxDwLF8PaLUjRVyF2mFXmy4NOCyLewmpXYx7VPyJiJCS0uhhOuzNr6E0a8Pp/i8/q5E70gr/7RF\n",
              "6TtbO5E4C10DrIDPww7Ek/jRTYiz6zLpk1L6wEllgR3bMaVNpmONa0fjZv5uadQwCGcLubGgMF3/\n",
              "HWJefxZzEa60u9/YVRX5/rDMe215xItNUrY27C37KxlhVkVWoeN8hVYx3bfi0tqx81kjG4ClgfyS\n",
              "i4znphmhUtAvUga3k6EaX8X0QN2lzvQnQLlW1B+5O9WZ8yX8BXpESj5zmYsCSOyqTdWuJtFRHyP1\n",
              "Txnr3EPp9t2K5zGcwyMFHllNzYwH/6CMKhdZiUkwBnjjTK2BQOGQBRffuo3lq46CtB36hPhWFORA\n",
              "8xzHx369++ZCmd9u7zuRnM9zbOJGqzovjxvU/fUUpaqqbiQpy+Snqf7dkflLyzHB8Uv1GSQhV1+4\n",
              "qZ1qO52pSs6Rv44n87UH2cMdkffJKXQG/sGA6+FjLYteWUSticoYHf+1nwmB2HmxnfzJa1m7BP9v\n",
              "OvaTkpnyXI5xnKvPvfuqpB2Nad9dh4CpL8ujz2/8oU1staNc9/oHgixZrDTm3ypBzTFakW7+bSU9\n",
              "Um9oX5Okk25KTfvI5HWBDM87L+oWdB/ySTNs9wHUhmLCWfXD9cZa1UVn7mILOCtdJhxC5rkegiif\n",
              "y7GhHfclswwOKlAP63tGlQl1v4EPPLh/j4h+3WhM8hefzF+8J9m+Xy6iyQqFc75vTTn1lMA+REVz\n",
              "1YrYIQLxoB60kvch7KCBWrGtPJgy6iVv86o+hL0h2Q6bO155FQ8/88LQpT5AkxgwDcX1juvyQeJG\n",
              "glEcXh9tAP2EUlT0VecixBGNINawYesHUvjwzrdk1JGmwd32GOcL7Z2yWvacjDTK8Hnt2X8wuibn\n",
              "rstvtyiAK2VBdE0FutfMVj3Zd5/cVrWuGVOsc/QVqh0DbgSlw23OEqbsw567Pr5xNfm0m9N9zFzb\n",
              "ONpcKcpTND3IaAiBj+pFZNsW1c6ZllzFqzN2aEZaesiWCbpFzA9QEhctbdZDoViKYcCCK6A9OWHF\n",
              "jBiEpTmUg9gRt+vKcJjyVc4+vsgcYbeoW8MVzxp01or4P4m8t+TYQoPDlRxqPcvj8zLKyEYUzKP9\n",
              "CO4rVGzY0Z6IFUG5VIkoBepYTMdXH3Fwfm/WuJnaOcY/r/UGLtmEMxRefID22C5UWMhJPTchUKoN\n",
              "X2D9jfijYDryoI189NEn/5A4bJtUv3bHNlzjT8zp3nsepTLKiRCxTzNCnrYfIeOgV6KIf7RzRH/o\n",
              "k98Ul0iCZ3XVVpTe+F1THeWFyfG7vqPtCdlopTkrDwVuVsHJicxM2nt+BurIr18Q0o8QJI8ch/Xv\n",
              "PX32tsUR3VXYO2XZ4X/jqVrrNEKqC0HDD2mtAbWBAGHFU8ZCayw8601EDqFCKuHLh8c2mBqhlME4\n",
              "yokgXXuuf/mmPTxc8nFYW39AfrNdQH2eNsKDzGUJ5i2/R7HXQ4LjpDjllqzKNB/1sCDyi27r2qpo\n",
              "w5VygjT4JSai9XxEa922ta2rT/AIF4/ETgGa0g0713Lcw82cjCeVSQ0Wy1h1wLucz1qxyrwMETys\n",
              "DsfXUNiY1vVC4lcSLafR7PvtmgJV90Xy7NXein/oE32u1wNofIH3nn9PeFrb0ewJ2KzSIetvYRUd\n",
              "quQDqjdZWD7B3RjPdEfQzVg4AnFK/Vat37TWSgYiOsF9Z4jSq8SPQyUo5GcdHBbVRTaicA1TRWCR\n",
              "rqJEFzp9QdDc3HEZG+snAljBZUBJ9eQjZ7kNv6RstJk7Y/38ikhNQbfRRDuuPc6Z4lWexdij36EV\n",
              "BB8tcJdWhjjIUmAs1bJP9uHTuSMmF2COVkoZyF8VKQDQMHN32IzvO/Bba2/z6hBKa1GGgv85x3DG\n",
              "t/VP23f7pXW9iX7+ubsoqNcouA3E3HbGGGky/XwT2L2S1gt6U3D6d6ABZgepBmL2gEfCu/P0I/0t\n",
              "gqty5EhtQDlJxgq//jWBWifGc3lB28sxLTjdMsGn1QANw2FpB1wq8hoOj62iialMh+aintGfPFco\n",
              "xFuxXNCu9PPnrnIXL98c8Y3zEI/WPIHuFBZo8UlRpS8vjBEpKG6ds7hfMUkO7Ee3J/exkI1LCpGy\n",
              "ksK0Qp/XheKN8TpewA0Bc3h2/uTTVNvT5A4LYEwwkPIHKY7WlgszqXoslTgQ9lFKCxfv/eZYmzlT\n",
              "TJDl6wTAWHrfioQeCmPC336r5x4pij7IdDpvk02tJFmNbe/kOqnwsTD8MSULpCmKb/X0HstiTxRR\n",
              "SLYTaeVZS/zsYlLyEyeWlPzzVoAchSIC7ToCNH7H6BWdIJyIj8zczZSNwEJHyS11m9tTSkx5m9X2\n",
              "P7AFWuFcL5rp/DUef8/vjW3Hs54msVIHh9bKUchsaUGcStgmuZVYuAtx63sWCYgiko0kC7ady6ZM\n",
              "70bxzTAj+LUePsnidUL2lmVq3n//kob1nTNTb+Ry0f8x0qF6E+/ntNwlGGKWXAwl9NvTV28CTtSV\n",
              "+VMLjX7k7Phc4EY0ZvFZmYUWRGhydiMMFcdQDZ9ObvlP47Z9UmBMAv2/tUkevxvo6Vedma6vqkkH\n",
              "rKRqOapANIw2RhKTGmcjP4caqYU/AzZUTE8ohT8wDPtDOnqyZGn2DiIqMbdbECJ42bogoXWZQaWe\n",
              "ViBooOqEvN3SMEvBuBUC9fAbJgdjy0LTjirHggeelnm7goNFMlmkdBxlv7cnhDImXe+TuV2RQK1p\n",
              "Q2dEUt1UCGcdhz5FsRIHwROetC/qDxMewcpUzgoON4M7rq9EWWXJ/npP0FOoWkcIOiqB8kg89Dwy\n",
              "+CUgK+Qy4rVRcFdb3QDSK941irzsvpv/HYoIS18WUyG7HCQKQDcPoJeGeopmXjdJqsdDf/G5CcPb\n",
              "RvjetoN75LQsmP/VJzeC8yu9b2ty0DQgw5OEJ97VNzp/omUlg065G/s41AzHVY45bIUjezk5aXGX\n",
              "mCuJ92wcCVIueiKuCDsYFwXSM7PuKa1nVGL1uctJdXmLQLfpqn9ylvqB38RpFJryOGk8OVV1KcYd\n",
              "zT88ECXdZFqWpap3skGKLuKanfuVzWZ4wJ88YIu8f6r3sS+0bg6VTVisdH154phzAOtC8p0QUMcU\n",
              "CtQ/iiY6DbNMWWd9KAeUnklzHKdeasINBJ2hAleXq4POQgboRyDfRvFChuDsD1RWk6HpSF0o96SY\n",
              "ktky5ZjE4x29Wm8I1pwQkt3tZ4hzKpUOF2wm1m8yysPCKsoihffxD6JzPJ9aInGQBjc2kFg+KEp4\n",
              "PAuef+6yXrDdnb7JJdegVDv8DjHPj3/73mA4QjzMyJWddyGoOZkXoEPGTA6Y/ac9Lor9RwBLGORn\n",
              "Y7gvXL9DdHvTEYnFVFcmh4+ZU3P0YR9ElscyPX2QXvQ3shXhE7JG+0A0a5Sx/AF8+oYa7HnxYu5l\n",
              "/IaZqwANVimJR+u3fOvPKHPOV8PyzMD6h2sHzKmVsZlTF68I2QuuOlDU1Pz9ZU+3WFFRNKhfrIpW\n",
              "pKh9QFq85UZxftNnQrfDaX/+P+6wE1L9ss5EiOETEOjAnJkTN2vFJE9JspiUf6lAz/AcufgBfKqB\n",
              "ZcbgqEWb0GkzVDiacsUnD4xdOamsvOshddj6guw/Ukg25sgabDA3qcqp3eRvu6Jg47c8vn+hYIqg\n",
              "Wd/UK87xsizCSBYoDeslnv4gWu1oVdD017oLtuzXs7IkO+lOu0nF90sS2+W+f+tlZbiy2r8t5Gxv\n",
              "OOd2Klv4ebQ1M3/OV4DouoLFfib68Ncv6ISvvc+4PYhVks9n/mRK+DB6zkKLyb6ZV1N+smVaAJxM\n",
              "vDs4tgwGC/VqIUuGCIFdHub9FHN+gCgbHZaVymDSqbTJQ4KW3nGZjBkU2RqRLeq4NqNSnW0Gr3VJ\n",
              "Xy4aAUY1EcaB2CXHEMAnIQAAB3xBmiRsQT/+tSqAHyweOAE2UsznEy6JVUQ+7rm9nHvTs9Wwf+Py\n",
              "W3D09R3u1qdm5m0WD4LqOOxlEFkom2VYU+XSgHll1WzvWCmv4Y9/sqhNPAPscXI2bQ7ZLZyXdC00\n",
              "coNmfcM6JZA5ART4/NWpJlwYCsOrmckZnWPOJSloJ44t/YSnf5AWIcD7NhGQuvAHWpsbgBInhMqB\n",
              "UuoenE+gDwHAP79rmixaJ1HAwgXIVX1OmbBcFvFjySxQhlokskpmbDNrB57/BYfqw6juPACHamOF\n",
              "eueFfCSMgUb993NsiFpIOMSGx109LdpxDQJY0fCHMLEtOY6SAqVyo0BUKiW3ZleuZoQgMBT3j4on\n",
              "nddhUnPbqf7BDnK09E9Q75iNJ/gIV23iuy0Vywj8KVo2D37cs0xNwWA8Z1LOW7cpCMY8zdi4nhA5\n",
              "JyefXOvdBspYJNfhM3SBkRgkfqnPQxvWd4kzaRfH4rziaOAnhiTLwIZH7X8uQdeHhXSjuh1aXj0W\n",
              "336uMxNurZS3nIFhkgtzcVV/ocVq+DnpcZhm7NoX9Jq3JtbqpL5rZhYHOjovvJJoeG3qRv8VqSdU\n",
              "FKF7asO2frA6VQ8y8NNe9TQspRNnLem5t8JXvtAiqxcOBJDUYUIaj6XWB7K+iIcrJd5ESWXLJd9p\n",
              "xntOYPw/mOwxasKTl93IpvcQHz6mwXP9GBIbKf4iP8YKBycgLud77e67K+BeX12+tVbxgH673yab\n",
              "BbNgU/poj6541hYqKv4sSMM0h3DWyFb8fAV6lT9ZuSTH6wwnUKhw1dOnMkwxsdp82/zepRPtzmIZ\n",
              "F/Z7KZtWmLbqGr+p8sR5d7gsLeg0keRnr4sd9gVvGpddlVbAmS9CMaC7vHNfjAMTEYDDpSFM6KlM\n",
              "wtACWhTrPernVQmAIDDtQDLaSl49jopS/IQaRNZu1Bec6xg5X7cFgl2x3bEhaMG0w6tdnaY/z64j\n",
              "9im873ObSK3o76kufaWyTdjDYn7n+8q/X1Lkdg491UmIZ1UUm50JaQc3iF2zYHQKbXKPjgp7dzBV\n",
              "KNB0pVXUdlL0c+L0BPlStSqf0WaU9ej+ef7nAPf5yA2EwL+x/At+pYd10MPQ5uJJCdHUZhRUG+1F\n",
              "Fw4I9trAMupoaqhwtFJ/t8JWfzRi4NexCKjA0McvibhR8YItLkjwkiFY0WbGYFOd3nWWr8HrM2An\n",
              "/GqGILQso6XrU5B6HfgXBxxqp3jMU2VZbPXRF11eaugEvv5nCvt8D7Pk3fpbm9Ws7PO1+AZl9w3W\n",
              "E+Gz3BC4vSx/EvogTE7bQv914uZBP3AWYy2wYeJN3absSKQ/5GGKCRkT9j9J0RX/bjzYjn59sCZp\n",
              "6WYXyyYIgXyFxKxSfiV/s41pnS8k5/k4/76or3mRI2LnWPsZcMgVsuI9K5TRHCz0mTyFXScc5Mtc\n",
              "f3zScOVnD6EG7dAVbOU6F29+1w0M4Ac9VTVZshurjaP4QBpSd2zQmT5F0RDII0G6eiNXk1q1dHW6\n",
              "qJKqAkaMXtBvURb8Zm9cff9ksW5D+HguUtDXTVN8ezce/OT3AcA1c4hOHtG+dIb69R71lUP0TxCB\n",
              "zhWjPsfSb0PsmC/70hxWIH4c/xbIsx+zZwO1pMpqr8r/x6+yvbWdlc5XEQxf2vpw/pVv1j9ZIALH\n",
              "1zfqH5N6o6Xhm0HhAbygqP0N3vsQUfesJBOJhejVuM4+IzCEF5muxcz8e36fu2MOcg44RAUCaKG/\n",
              "nqWRicA/sc8ZxKR567/MubijKFpDKfmCfndv17YNeR4Jh43yUjEhtSGE3Rd0IMymDfBpkABOvglj\n",
              "pX6FM6fgc/br2OBzbmAQG+6piwngot/+9qO+s9EbwBx+OEASz1bBYcm9IAIdtBUewBCtbunYkJXa\n",
              "4uinvt/5607/bedXhcjeYTNPWbHWGi3KtawNvTt6Q4Fs8YgSXuDZDko/h6BonhooQchpLCfLIvic\n",
              "5up3fPnaZA6wmoXGoTPVEDcKgVOMtK+hXTKTbO9AIW+70iP/zqN7LxQrJlpkbf6mB+C08aPT047S\n",
              "b916ARVrKGc4cOa6fKxdRT7C6TumhnYvmhgsoWhN/8FySbmrwTU6nPRfVmPkenG4QZQDGZjIHO4x\n",
              "PZa5CDeKk3oNa1XXcYK3GSvWHsNrRC1s/qxQbRUvrl50dq8QwJjQ9EplmkIyzx/UX7KbzV34+m/X\n",
              "DRDW2E4ePFjfPSR7KKD+/Leh2r564RQv7Jv5eLu80ZaGRoybLarON5OL/T7dL5tYwVPqDlVomfNS\n",
              "gEf5Udq0shoZdUhSshYq++fr4OesoC7xKk+USTbkgBeTPHo7lALHy/tp9fb1uSCcfPpjeJ/hp97W\n",
              "MMJcceamDiU0qD2szJMZN6zCGLo034/DsVxodQi4Xj/10Bv2/7yijhR+3jeYSSMOlTO1Dfso8Jzf\n",
              "NApD7rBLqHyW5OQD/Ks0ZBIiw037JsTFMnb8WPD6w8V3IgGMyYuZO9EWonvOXQQw0UqO1WD6KJC0\n",
              "n1nDL4hnJwguombaf32TMyf8DuncxGHW0KRJR6Cdym3qs3AcWZmwhRbPfTnIaQMG1njn9bJkYAAA\n",
              "AgBBnkJ4gh8AIYh8sa4S6zV6oekAAQxTJJBcAp9kg34p78+jB/Ed0O+Eh0UcxkgU4gf7zlsz9vIr\n",
              "yQzSl6d9lCTaJA+umUZPhRlGM2nY2dw05ot8C36+KPVXwcNXnhTRRswwNKJkjMuI7arueVz6yoEH\n",
              "MsRWrrs6UFZ9nwBqzzDeUYvImdnnGhbUnrBZU/WF19ZiBskYAoZSLjEViMeZrl8WrTwRJ2q67t0C\n",
              "ZAbD8ZAYcWGm9EfT2dorzQJlOoG0o1Yn2jNo6ccXkTqKo1M7JBph8RKpPbDFJI6hubcD2gfrChQm\n",
              "xVQ/UmbmU0JgFgw4Tb4Q7TGqgp38Fd1OEt+HPCbuvbVdV5bcX/W5Xa8XLYT5GSbdJ+dDsEyOg+Na\n",
              "HEt97JSl7GLr3G6bcwpDjfefCWvBRVgn1JCrYlDBhIihGEA64XQr0J0BmSYba0XBd8T1nHgETmBy\n",
              "Rzg41izXg6idbFFd7BVTBSpQUarb7nAN08Mmwzkzr0/s1pbRG4W5tXmKnP16RU9LZd0VLErHE/A1\n",
              "cqIkTDWDSD82+fdv2bMLcHtRF7Evxa9zIrDs2b6wAHnteSgkXkUr+NhkZyBhZshJYMb2GzYw1fpM\n",
              "vYzHZkGBCaxmRx1aE9oGbW259/Wv9yy/NtXpRX22dUb6Co7COpm++1zDA4uTEXoQwcC3qAmBxAYk\n",
              "pQAAAX0BnmF0Q/8ANxJKAC6rsCS3ZqPDY3P8OsG7w+FhSdog3J7S1jdONcP9Z4mCumN3D+QhdUtQ\n",
              "jz0TesFhlJku1hwdGzK2Y62WNalKc2kC3i/1sk85DzBAevr2lsNKQ/hycFzqL0IsnXhigQ1IxVzh\n",
              "gZvwfFneFmu9GaXQblutBMRWldvT2pX8wuBV4ecGWIxKvP/yeOCSLs6Z10uS89CHb14gnGoLZOvm\n",
              "08J0aal0pIHSK6K/rqEvsv0eEqT2Q1o2QU89JAICXt9PIbO/ZslQj65hfhOR5E5uw99Ws8/HqGNB\n",
              "3G/GCAXDr0mTtS9R3eek/fBbh2onIFMF5Gy2Tkr3SqjtDq9TpNZZHXHUGe6XrswRMhXm5AfTGrBP\n",
              "Hvkic1C1LSPCrZP2VOhBbDe89GZG5AJVWGaMxoxmsDEElhjp3QLN3ujao+VGME5VmNFRw84+601t\n",
              "8iFz182LMDIPRNgc/TPfQ9nc46baLL7bCTs9PA0dluhUxZ4qOGr3mIsrUhoAAAF6AZ5jakP/ADR5\n",
              "jQP/x1pIQAJ2+OzcfP3bhZ6uelecHLeASaGqb0Q+0o44WwUePkt/gX+WTV6CLgM8UxW2iv+9ZeeV\n",
              "HqxowLuTeivDGM+aE5EHnRjB6SaabsKwL007bI67kFQakIIZTomcTyYbrxmQEvXrQtpT1GkhbnfZ\n",
              "bSva9Lf7ODwnKgBuDTj8XGpe7SWMbBPBaK3QgH3zZ9ZyVLbbUKg1jE2Q3ZOQrBUVUjPwBqXEkLWX\n",
              "L9hGYNUdc/2PEVhD/tfCS5XR41K7Fa4adyVKDl+T5lUGtHfhSvIter2RKcPCxDvCEZm3UMRX0Zn4\n",
              "QGUCFPELevCUIh4VLfSRCmA0OemGvCbx5wOz/ytkZoTT4NiqzYCpKu7cHMbyvubuuOW0gmQAUphg\n",
              "mOPqjitBeQCISVtwR/AKyK9360kRYmy0rE4/A5fYEUkvaPRL3ablNT1nqoULGjce8BXOz3Y+JGnr\n",
              "93DpKN1+iCOGOUMNDBEoJ5uXVptrXu09s8ElAAAGO0GaaEmoQWiZTAgn//61KoASH78AOEF1fld+\n",
              "JePFRI0ctCGqEAvdXP8Dy/AC6t3ZQMb4KHJI8hO2w1ayezFrwd4VHpqw9pbGwFIWwGrf98ZXUcQB\n",
              "ojAkQqJ9KKqEm7FtTWQQbP4Ujw52vpVBd4XZIQnQxFqfQ4w0QsHeqGpwXRsOpbhssAp6gKUizIKb\n",
              "cmA5yLV5xY+ZWQfuhrYaz6fB2RFIHWD2maiF4jFySMHRF1m1TgzIVZf0jtMQO3xU4JvihkTousyk\n",
              "viq2OkQaUr3/TK/z6mmyM2eznaMtF5X1xAYWgVTnABKlXI2zBQkayys1Kpssg+VXMLR0J16zcccG\n",
              "XhPH56OX65ohqoTwhLIFr8Ce6bZdE/vkosPi5Dt51aK6GrhdixORZhonVnmV9qOowtdwtsIB1kAu\n",
              "YXiG/fzh6Hp5V8Rh/LTQbgAe4j8IS1ytPG9mfhN7qKPTxW+RRzRaLZHCbykLN0X+P2Sz63Jt6870\n",
              "+aj3sCf6a5tBM0tkA9x1guafmRNpgyrV41rGDM0nq3wBXJJFVyW0hskl9pIglkbLSFdufsbcBi8D\n",
              "Gf+4FN4HJe9ytk6tooGKsxPUtTavdHbK8w2oL15Q+Xs44W9exmP6WYJWyKhwefqTHx+L99JVteeS\n",
              "OrKr/myHlwJ+h5DW8y1+RV7FaYysuEygkyJo7FqZdYUqaRbsTJMvFt50FRAk/obJRmw5zHinrXP3\n",
              "oV3YtYvO7wP3E207Mio8pAXJz9sHOkkPbaI7KFNJY8GJphM6/8HlBvHcRgqZ72uO66y8tFPf+bBU\n",
              "K6+obZpRJjlsleeODSbOKBZR4ygg4yyC0FWo/bpQJsv1OTS5SEIeCkOpL31brlB+xcDejOycEMje\n",
              "V/vOv0SZTV4J96ST+7jSnOl1mrAOq7/voF3I6STQtb35yHf6Z2SkwJZUo7NRCc53j8lfH/xA9c24\n",
              "UpP1sCojQS2KxTPX/JZHoQjoeV1VZgfXa+msqNM8XQLD359vXbJvn0kfkweBx0zt/sLdD1zSpETA\n",
              "9qjJchzEeeJFmpMwlZ5bGLAZnaFh1Hf1+QBIYxfHzT/KmHFuwfFtM0xjvfvlrJ6O0ydEYbuNoSMX\n",
              "Z0DFyFPhtCsLPNpMBpt9CbD5uj5Xb6MOix9BBbig00pO89be7jR3/q6UcCTB0c8bk24fT8vHzKqJ\n",
              "K6OE7c7D7nEo2PfPuq1YAVq8J543B4bLlYlcSLChx/S+iHN8R+mcKtm5uwzUjYKOLsbZ+iJv9EQa\n",
              "Wk26hpsl69Ej4iDYTZ0DLFIhr+Nb6ssyxTzRgaSd22ojB/gxA642PMfosje3IRsYN3W6aDSBp2VL\n",
              "x6RtVlnTGtj53tyjYyRJx0ceaLfG/llEbPQ1d0gTT4yPZ3Y1DHUmqZmLEZsu0T3HCFo8RX6da9Wl\n",
              "KOdtC6iotd6nYZU2iMUip+WG2qCZvE2K5uW1U9eHepVRQyBmXV1JfPMBYRMmnl1hmE+FiutsqnBt\n",
              "XQxqcMpyEC8D15aCfTt9KcmPpgnBQaClQ4BuvfP0esPrCEvJQCmYmeAMrbZUHvHtW48grpqhcalq\n",
              "hYPuzCnmdDzSwB+hB7KF8pP8CiQJpO6EDGgKRB/89cZmYN02f/0dKXZloISkC+KnT9TbHIuc0CfJ\n",
              "6UsWMrqbnOdJrjLLPbt+BL3uUY+XNdAYrO2lqj7WddU7EefqmoZagrmtARbuDTQgX/wfgRPA1lH6\n",
              "qXDXt+NRGJSqS8Pfrm1PiJuRG+TLGujGdKjUdPNC4IPkcrJLF73Jkq6NJmmukzLQPj5aINvMhqD5\n",
              "4YIxECyIUWfmxC++nuqEDZHZ3zFVYC/m2ZkCBRskvvy5DJcX/KcHAF7k6gm6xSNMiIrYASMkgy3P\n",
              "wuR29KJnBGlZYxjSINOBO4kFvtfqEgmI7g0kw5+Ipdn9B+OLpr8S2WIZ2o9uVqpHcsIpeoThM9S5\n",
              "a8gLzfV6QOJ5eeLdc4qMeyzERZiyu0nckpVD22iu+hK+9MPvsVqN/1wQ60HJJVF37yYf/y7HoGCW\n",
              "7uuKaNGuGPMXrd8fnOUL+HcK0QdesyaTBZT3F/kvZs7syT1ETruBIPZHsLoz7xrW7xw4KbeJ5xkN\n",
              "sDn6YIuyJiv9JgsdQAHLx8nPUIIGqxv5Ka9hIseBAAADAkGehkURLBD/ABafnTJ6r0h4UKSTuP6U\n",
              "ALD9D/wgpAQBvF3zwGZaLSN3d7wtdanBUjkcC9sSlHfsJC0CnmGE8+VRev8K7spiee2I4UcJgj53\n",
              "TEpMPwkNu/wGXmi8DKE8cTZq/eeONVaOw9jLGc9+4BLs8gWEvb44t6nEjilW/v46P7bUF2mM0oz6\n",
              "Awvwtz9PU0URMqe5JyoHPSv3LrTPsYNhF/l96Z7PjLImtqc+eF97BGxSBk1tAPi/aRbB+QqfVsdT\n",
              "ui+G6kURgQ/s+S/O2k8U6f9Lg2RXdzAWzBmiKwPdoDSpSEKC9n6uuTKrpHsX/UjMboL+SQcNmbfa\n",
              "2agh5KdEE8OPaqfflBDswhjgiOX1Iskq65XHoWGf3hPJTdYb1p5kGeTKG5LmTb9U92Pyvd/7oVk4\n",
              "z3/RPKEl1GqfaDu8LB+cWBYREFgGRJVwOSC002LfHox3MmTcRtjxNTfls+MnGqeLz+dpkdWhR4fP\n",
              "NnEw27pblYRoaESl1XCVuIwx0o2GGQDtPTsKKu4K0e+EEWktDmme5VXCjsjUsJTGqoAvclzgHJvI\n",
              "8OEKGsFKkBO+cTY9U0YjicCaJZR3GN/3nuCVP60ySBk/U5K/1pHS7jwzDktf3EAgF/JyuyEjtIEp\n",
              "ZK1E5a8DbftbIEhzbixVzp/7AKr8tUQpZqGX+OQJbCATQ4utkPa14XNS1Groj2etxlwBNOW+hGFt\n",
              "4hkIkUI+8/5Q2NOXsJDi8TgFyo472MoQ96AEy5iPC/50Qq4N84Nn4Fl3mz4YMU+4m73RDQzOYjRV\n",
              "VnTk1YfeiZMqtJWAyrmR/kxeg/egwc9R6FnMbuECM8SN/A4SEalIuSeW+4wiHQtoFcaQZNZDup/r\n",
              "WFQUta+UbOw0UJsnVbleA0hNxLxbpi3QKo3H9O5XsYssn7YCXV71+ancDK+ERiobqD69seoz3Vay\n",
              "Rel7j64cBJBdqTNQbgk172fXndBTVy3G4FClh7zy+Jm7dbIXq1V8csrhe58MzweprO6A/k23PQlt\n",
              "dC4OH95tAAABHAGepXRD/wAx90YPU1Tz/QaJABOwOSm7ujcrRJQE3kMCXiAg1hU3Nw7ZUJtJ+OjL\n",
              "4UN86TDMqyNTDE/Y0Sh6qAm+WDe3qg8xmw4r2IXjintjLAU8qqE7Tv0S3x9gnPL8G+2ApTy5GbOf\n",
              "6OcE5+nmdtny5+yJiaGt4M4S1o6OB8L1S1ZeFgcFY0KPucwvvQAdQM/LkzSXJoMaOrevVHpWtPSw\n",
              "RXfXJUGCMChzrT/vDbqtR2lDCvS8A4m2G60QAJ9mnbmmnhThgA57MhQRjDk92DQekXNLehgkxBVn\n",
              "m2DEAdYGl/KLzNdCKHpuy9Es1/v98vPdqRSlTS+konEE99SHr6P8fgJLyG97Dm8960g88e3C3IaE\n",
              "JsCbdl/rWaVnAAABHQGep2pD/wAYfM5UGgBhUYtd7iTQ0qC5+ipK6JYQ+eyYBBvVQXddglD0Ng1P\n",
              "ng7qEyRJSyrZSoXOFbkQLL261d2UpnpFdhRMImn3RBG5ukV1NCngVW0l2gEUVzLO6TEEjmnjgbJa\n",
              "DIxtH2Cu1oCBMtrpny+OOOVg5S881WvQDxlErTs4sOKU/nt5WCYgBGD7L2EJ8pA0Zib+m1ZeS5cQ\n",
              "adgEmTnmydEIwoBfD3CoYXSISmXES+RFkGhP7hkK0FfSwalWeL9hq9ILZdHuUlG9ObDXACsZTsM8\n",
              "BxLGEWDDdk4LkObIpm5JWL3n14aQiQLyLLjNi3EhGe4Si/6o9ze8GUDn1TR6E6v+KgAvlY0DJrIO\n",
              "Y3JPYWLkyUYxhg6iugAABO5BmqxJqEFsmUwIJf/+tSqABGfsafQbAoc75QC0PfzdWtVmaslqX7+A\n",
              "VcgBx1GiKpGbRN8QQRzW9Ga4awugtR6m1eZurXkQbETp8IhBAmW+XVryr/4O4FKNa8Jpl7qNez62\n",
              "RcYhB2VYWwQGPliFXkA6EEPupoMjLqLbXsd+oYyU3byzmn0db9FWnUo8Ag34XwzEjC/z+AZg4oyd\n",
              "BlWXxG/EQY17NyKk8cd2Y8t0+xg5YEpO5EHduCMIGBRoZ3tqMjJnpby0SudxV8Vs0QNKgU3l9Xat\n",
              "OB0UsobUSnm5mOxbUljgr/N/Awg7796YQDLTeeTi+A2e4DofqcuY2C5dOa1RMVYSeVWxWIf2IWAK\n",
              "e7wlSHTDsEaTbvhC3fOQ7I5b+5FckZM1/v2kyJf/z4tYH2GzyPHxe6/FP00T9bX6MyrhZyp/RPlc\n",
              "rj29qRGpDrbvaue2v+lcJGdJAfwOc99UQSMZipF0/BXssU64AbbRXEylW92HnwD5MOhAxBLD64rV\n",
              "dip2KhFL+H3qD+ccqVwnqcEulm0E9xSah8UT6Sj/iSt3Lb8jE5jTczwj0TDn4F6TZxU6DFfCFxM0\n",
              "k9j7oA94Xrv8ZH0ILzbKpKKfgQZTOC1ebBYw3h5JCI64+2ikCFe9OZifCcm//zsnlshKOi8NlDiS\n",
              "of24DuJSS7NZuCuRQN+bO5yqTeXhgpl3VImR+hx0QxqpKxlHPwyGmycO8qsAgMzlnC2SHJQL4Ju3\n",
              "LKtbcVVCnWo/nLGu7n/f+sj6M9RSkIZX53lwwYzhTUms76clYmGExhqKVPHwHBoEqb3mzeY4U0/2\n",
              "7AAlbMkv7IGSaDZu0hsM4L5xaJAtRAjCLd4OsoaDEB8Qmu5gGZzz83TqoYCHgx88ATnZeCzh8p4w\n",
              "6h1yocXoKy5joLNi9L4uSUTq1Dp76RgWj2bZg1E8n/ZMoTCI/Bp2eZBaAL7BlL+oraz6L4L+H8kM\n",
              "cl7cL2CjubqqKV336rvcXLjqrx+X1HV7jg9w9Jk91HDbhGqPV5WEopmQkuhLrfsfjka45I58urtm\n",
              "IW4G/UEj9p+WK2hmXmG5p9Rds4n6/VfYZ1bb1HmMM73ZWDgRBX2dbOvVTym8186uMG5uZOj5oaBw\n",
              "8PKnvbitQLt+LqAkhsLSnFcAIPOqPyiE+NPtZwBUrzr0aZkPIpyZiVYtDups7y69/fDWS/4oE070\n",
              "cucXbzyAUIew6NPSat3dwBIq7QaUQbIgiynZ4F5PS9wGGfeNjce2VxkXkYMNdhGY3951hdzTWIWd\n",
              "OUHZGPv87ceXEthKsNgEIM0p2UxMcDavK/kveS/sQkKEareHJUCbxu+p3+ZU6xeSwgCweQ6KZ+qm\n",
              "Bk6RLcKWG5bMMtAmg4T5CUcGxLRf78uUMMwdS8jmKRLfgGA+7PL6t4T6Xeu+V7jeBwG19dKPMeQc\n",
              "d2q4l4rsVx+2XhTreuSNrYaRKFBtTUICCh1Ra8DDgMrEJmUUZsn5iGryGV0dtxt7FQ+gs3nJRRSO\n",
              "9DXm/I9Js6rbuh6Prhfd39Ip5sfkL8pANsg/MAARzXW3Q+PZ/IJJq+Da/8QmW89uPj/EoFIC8Ta0\n",
              "CwHxgSyjOJzFDO31+Y9qm6gfy8WjrBJxIez+mYAbEdUCXMGzh7glizkEqbdHKAhqW7ZclRZ06mCM\n",
              "yVXQJ8TMTrdEYjS534OTeXuHDykLVk9mzAAAAnlBnspFFSwQ/wAFh+dMnqyLzL6TxAfSNG529Mf8\n",
              "Ly/htbwcAF1XeRTy4OHeSV5Fjy5P5xE0q5CwxBN7LvKGOiYmYYaB2iXXStA4SmzSGo9gdFwjoVk8\n",
              "QVxpkI1yFa1bBX3OtRQ1TcRDga29MEYv6jxVQwpwRzJBo87AcxD74uzn6WfFgddJYEUGBMssO7RE\n",
              "eAGoyxVKV40jJsm5qZ6xS7UMmhDRnqRW7Z3GX8sqTPsp6CA7sGjE6ZLPYKk9UCs6m/oFTIIpbC2Y\n",
              "aa5vmRHViJ4JdCJYubrxzOF5vH3UssrAzLCgm8lY371Sc5Bv4WM9qsPmpBiNzhaDmmdI4l8kNRmr\n",
              "dJJhgSHwkfz8CH51KhmKHP6CqGcI317nVEGv2Fg45VEgOVHcnv/w9hOhfEOrQ+WOZrIKW6Ni5RqR\n",
              "UWgIIQLP3hoEQQdmn7u4vBmT5+KOjMpndglIpRwTC2TDVcVfmTTszT7Pa0uuYv7b0tIy2Wi6/E0V\n",
              "Xft68a3uljzonjjTBnHMNy4IOIit0Y593T7qWhSb3ubjtV8krkPUh1McYc7RpK9cIh1VB8Ir2vLX\n",
              "WifJVqlktvRTu7Zr8tsZKFhvaCfIEmJtJbaZmvFGbHffWGVWRbY6QxoiNxyvV9fvEvCfZA7IobOZ\n",
              "o0C0PM6b1oe6Dn5mPGguKevTaPHt8MCJetRI3CSxm52znj5J30M6tFuC5H4h86PJaErV+VzYGITC\n",
              "LLxVMvOEt5WpXfiAnInkV9BDYszEgeNGLHHoOyBLCVYOWEkwDNTdGHczWbDN86/MvhMF5RpDOXpN\n",
              "yQ5iY2CdshfcjROsUGEDgTfsPVcN2ibxPuBu0vXlnFeGBlUAAAD3AZ7pdEP/AAw90YPhT9esbprJ\n",
              "vlKQAli+UN5d7dUGgr+AApo+bRbAgcndWJ/c+QwaEf2B7+gu9ixHN1XRKNJSqzzy10YwiNNpeEr5\n",
              "3gbrEIlIWPADgB4hhObmPHd/utF7/+fH0qUrx7GcFSfIpB8iPFy8Q1u1TK9oX7hYtgtSb25kCART\n",
              "yP4wpNqrboXnWU/bwsRyu27mblow1sm58FsGzHFWs/iQP49U1nzURQvdrpWH5AGC7QaH+9gOQ4IX\n",
              "UPFTqEfJf6C0619ah6Ka3LNNb+FsTFBQ3jKdp0GkOtqOyrU9xiZXlnBaUb9+l/i+GJrQfh4h7KQ3\n",
              "4AAAAPUBnutqQ/8ABfczl/pF0moV5Y00Mo3eI81hlGmu2JKB+yQLReH3rkBhGktCk+DikBOdsVn6\n",
              "C5e+OACmNUYDgkx5g/efC1G6PD0zUpI0KD3KxU+q2mgY7jQu4f/BPM2kEwRm1yGZAz6eq5LquOQY\n",
              "8LSE0otqBZ3CXAOyGP1N2O05P0kHuuFCe1tUvH66LK7jj+CJr/SsE0rrz+o/tx6cv+DtGkKYem6B\n",
              "8FmNbEnFjOFS6+woYIhdU5lzyL5yNlmyHlFofk6PSjofu+lgWUb8a67ZV0wOT7BcuBQ88hXOypLO\n",
              "WfeyDdsjPsXIVf1Xl/uGtDggRz8kcAAAAlhBmu1JqEFsmUwIJf/+tSqAARH7Gn0HovTYsTogDbuA\n",
              "BOxsjXQN1MFbi/23CXXsPK0sFso4T3W1sOdhtXc326eX/IOGjDiCUYcW6QMFdvRrkse2HkCM95oc\n",
              "zOXLxA8vutSaOFP4c3vet8UgE0W045LEcHRFrv9YtRMjpMqUhbtuSUUDvjpszXPfcuGXhfpmqN/o\n",
              "Ri53bDpD4o4TgEXb7L2xE3JcHENtEhoe5LtaC3ju24LBgfB3clSzqDl05U2SAqk0NffvXeNDRm15\n",
              "Xhwy43AfzvVZ//erIYsMQyPT9FFO0/khfcQYQ7iBkTbz7oGrLUgFnAkO4rJwXV8O6Qu0B/n1I/AV\n",
              "G2Ahv1uzij58FDh3/EYPHnGAPeF8o4zRY+uvE/AQ1JuQb+rVb3yqFQJMGFwbeBvGZEXtJp4GGg5S\n",
              "yqvQaf9xQMaWCzeEDmm4+Bl+a6g4JPbYgVoG7xvsrhDIKrKsiGv3ntxSU7at29AX6rVSYHGlHECt\n",
              "7UdcGAlbpFstv0rtAizTjpX0h8wo6MivYHMIyxVCikZaw1roRnLGW5QQwOc4mbdNz8WetbBDOhgh\n",
              "Bk7YxmFSnyyV38rYAveNzdYs3bFzyknxXzvUFhzqlLX/0+8/l5csbsuZWtIWeHfAGsCnhdi/rnDb\n",
              "39GP+BUSPEJP9fu6OX5aXt+k5z4T7iAnpux0Y6DkoKtGPfd7RF413Bum2H8QAg4T/L2Ov8LuMpip\n",
              "145KIAypu648gR69Jf74YWp47e78rXkyF2m2Vx2N8C2KDJJibpFYeHe7FKZ3cKzCtV0CB0lA6YEA\n",
              "AAJpQZsPSeEKUmUwUVLBL/61KoAAlP2NPoNgRymvA6YEgyLiK/CcrnUoVwIk4nfHxYtiJVoidmYI\n",
              "bzoZmRMKqRJybC07oolW2TCAsIkX+VrJUCkduxwBHQupbebc2CVoc3AOtnMeaA8lljPwRoADc6cq\n",
              "9Aa2oUO7yv+pYox3QPXugvTFwwwWoS/3Z/j/tJ12ypR7tIUGMkHUuFIiC9IOrHFSuhFIcND2tz19\n",
              "wAI6X5wIkFbfEBX2rH0li6vepMQ2Fpi8M9B7CrGV5GWl59dKBI9ivK2y6ZT6asjmqHSefD4s7hKS\n",
              "iDnjKr/+wzzqvwa4olEJblnhX2OEbjiiELLPX9/cfNA3+bzmqFDG3+Oa+oqTAlrkiXvIn1ufrwrH\n",
              "oxp/WdfFv7OsrYbJ3BwlhorV1dwih8uORacxD6WvmQCmqnbwqrTOnViO++Rd/4X6fvfj22oADT7t\n",
              "z/ewr450v9vxvNwiwBp41UJjXeXIvz/mm4AbMujM0RViNuK5kg0vofm0K0xgZix13Cj/O7Yw88IK\n",
              "bn+9aTGrFp5Ap2ZdT6KE6qQ3jtsXI2dY4SW7NGYHvnLz2JL++11pSM4r8xXlKmuMc46H7nmuJ20C\n",
              "Bp6l+e9pjR3ouRS44uz2fTWscd0hfjkkL29RTwj6IyyatfvEu4KyqlLiRQLoYOojN1J9rlUVx9iQ\n",
              "P23a5iCpxv9veHPo6mI5kqSUWaWG0Mjys0JqAHhv25ZD9B9i4gxNbgudxxTmhd56HBN/pAyyCe3Q\n",
              "/LZONrdqQLeT9JMA+c1Wye2lxm4R2yhcBLhYFF0zKPd9UGxROMhMzBgc5UGGnrJwZ0EAAADtAZ8u\n",
              "akP/AAGbzOXeBhJgIVdBgzHl5J5Mk+1sRPKE9By9SD4W+qDHvVh1xm/bqFJAzjK3Jv4wa0uEhevK\n",
              "2eLIi9G83QfANxaK7K5OnYFfcweITT1JPhAmSk5SGFeMz6u91tUcNXFqxCpOrrtlRLuhYwIWRfBQ\n",
              "QYQ9hfsE1D4Jxyr3uypkR+FWxtM9xy8HwLcnx3U9kGaI+7vaq/OMTXZxd+NN2bcUZx7ams0v+dn4\n",
              "LReH9+9bZLs76kTud0Q3XWOOcK98jYcu8HmrdO5JR66+5JS5se5yfDrw2Rubd2oF5QBy0/Ura4Ua\n",
              "PxTE/gR9AAACMkGbMknhDomUwIJf/rUqgABQvokNt7Nr0NEkQgDsG9pxfnVGvjBF6UKBb/OVe7b3\n",
              "rlwgOvCN6gbUqHcoDJYpGEmCuuKj0DSLFM0XRshP8/bWvnJseNdf8hq7IAojp35XJg/3UrsBKi5i\n",
              "drdcdrV946+m3iXeL7bZ6opQFes1HV7saP72dorMxKwlMzMUbzb5wDN44A3tKxf3koZxps4MRLjS\n",
              "eoW44cDb+CBhuDD8KXTGm1j6mUDtbWzqQUiTEVIvX07/n/2qRKiuB+P6fX9397DJfvA+EXMENRmP\n",
              "tfO2g6FknlWvok4rO0WZt3xu2yoIfagvHArAVL0xkdVmvTq7GdrpbAYlLR8My7ZQBqWonzbo2yao\n",
              "PWDA7lixycl3pOMRy0n3TKo6kwMfTihhx+jtlQMQdJPL24r48mxWWsoKTEW4zcujjsd3lI6TJZpX\n",
              "DkIxhACFRumNWRSSMVknvSKOtoj+QwJJcCSdIRtaxw0CYjfbi7IOLVCBL9MfIbGKNKZDmmx6ory8\n",
              "Phce0StK4yuLLZtzI1AfuEIIcZVnEB+q9YdqwxBfdyqCIFZP2YLpMofrDa+HBGeQr7DuSVw0v78k\n",
              "mNYIEsRoL3jihPNuXZ33v6BUqj7iZgkZQFoKV1mOPjxV5tSBW4OKlE0dGV/aPJ9qxvFQC8stAWEw\n",
              "9M8jFvp6eEL1edX8V9AX15JHs5JpQSXJz+bkmKO+zS9OY787VKPoV+vqIGpUCoqOAztij2b7a0ZY\n",
              "GVAAAAE5QZ9QRRU8EP8AAGR8e12IIIdEiGAUI2wWIJ/wQcXg0/ykBX1bfmihRt70LZ7YSY7fUhqp\n",
              "4YMdvsNrkbRSJov175NYlWMdpoEQG7sPh5npKQ7oUpB1zEsUU3AVlijmfCZzq9zrLmN3K2udeHbb\n",
              "BYyGvYJUfqf9MnGmmWAY+XEh90swBIB8iQVlFxYh0ucO2kVbg6OAMdWUac0jkejh/uc9PovWULYt\n",
              "zHhcTr2NOAvPIOFh5LW1GLWXXlaez4gAVxQ7S9kqme9swJV4xEgrWr/LgydDPxxznGGmEriL+U/M\n",
              "tRGfKPPXZ9dA1k8uHYag4BSGnMx98/dEgVMGzZOfC/Ox+Z+gGKF5Cwqm+jp2TunyhsGe8GJuUxpg\n",
              "HSxPvzddDuIE3BcNEUigUXJ/6MxO/BezTW1k80F5FhAm4AAAAOUBn3FqQ/8AANLmcvTyllYheQhl\n",
              "2eketh5/s7FoUgj3IiIgerJfAfJxJtn2UE1B4XBp4DvNCL220vDkES0sdWo6cuWQgaMDxU4K4pxw\n",
              "haMHmiu37CVTXoQsPwpo3PkBjqCn/AmmqrqFKs7S0tP2gVVyf9gNTZdq0PtbM/h7iofe8jN3fRmj\n",
              "wbaW1qn/QRT9dGyKCzElcPDji8dTzGLY1qW8SO+1ahexe6giYl+oweRz8Ua3YqrreS/P7rZuKjEf\n",
              "Fn+iOEH6DTF3A/ZaIffcZDRdRVPnvotgLlyoJqAnSgHHtIC1DmLbAAABJkGbc0moQWiZTAgl//61\n",
              "KoAALN9EhtvZtehokiD/CRGg3A+Sn/U4A3bxkxBeqVpwew6N1p5bb/2cw1GKw7eybqTI03/mlDZO\n",
              "AZmlrX2MYnZl5JIc+lHsuLB4vfOQVlIyH3KNoTCKmkMJ/CvGR52bucacxyOScJA9mdhLoGYQj9OE\n",
              "VP3liWFp/gDdZ1GeUquiSXvaf91gayQ8gjYKezgrG2pXdZw5D4+DKd/iQ5rhjsJDeOk/wS8MlelF\n",
              "Agn0dQhpG9EecVm+q1s+PNYGBP8TKRArsQrg5bh09fzTbljtaQ92vIpc/oKp9aS73B9jrykvUgnC\n",
              "xgXoqm+AlBTKD8qFGJClB27wxLcMnH+CBrN9MU6Y/1voKTfbtiKMXHNBOV+6R7PWpVAJeAAAAWNB\n",
              "m5RJ4QpSZTAgl//+tSqAABxypUAZIAWOjIHQCrYAqQ4wwIHwmmKVow69egipvMNmfBUJICoP8HP1\n",
              "2YC0j2Iu1VuG2LO+V1A674sfwlp4OWgaYIuH8ndgC36fm9sr3D5sb6YXuGvD7Dje5ttkEMLOcS9F\n",
              "qw0KfwLzXTeVbs6IEmCmGZUWRrpcNu5/qUPg/PHBfutOXFXMYJJGqF5u1C95/vfcDqI5k88tx5DS\n",
              "hPqRwmTG1rsf9xSSI/xSvFm0fYcNoJCbtss3+KbayHLKWoTU19jGviqG2pLZyVPi7kFfDlSitMOM\n",
              "BdBRNPfj6/bwuRzQLzUbaQ4MQT833sfZ4nKH7vFRJOvmxT/nO34O0ddwuU5R+0BVRT3N/XI3FZvs\n",
              "+5wuvD5Bvx9mDoSdihGiG7VPEy6yIFzumdP2QQVwX5Y8BESkpk5h8Ygoq2Jtk2x56GhiMm1p7gk0\n",
              "2AgrR+i755TqeEIuAAACy0GbtknhDomUwU0TBL/+tSqAABxy5upuGIAXAZbTjhAPFeKrgWcssWQ2\n",
              "tVlIxclWghkJto5wm+VETIovNOczEh77Lc5HEZEarp/tlf9n+ee5xWBt3s1f6ftcI4r24elkpMW2\n",
              "HOU53j5+QnkgQODlg99LHyo4prJOamwpw/ltmDxS/I3lANdtGN0v0JwGoJg7hDr3uVeXijPC4hV3\n",
              "mPR1aHH+M2Nq5UmlkW36GDUPr0jrQ0F0hgNyXbljdes2rA97GnaIbDE/q4o5uny9Nl4thBAh2q3g\n",
              "UWbR7c9r8ekUzuh/7nWuZ601OBoOSf5ZFA3/+qqwTRXfZqGa845hYq0rmJRr5F5TMtAibxw9Us6T\n",
              "GKKmEaP1MSQe38ozMBCM9kza50P5K6vaKcM6wPoeieZK3phUE0DkTNiaeKpfjwvVhrE1iKgYlZo+\n",
              "hEeXgwwqs3sO4WG4E/allWsX15L0F1D0Xze/o3u7U1lwXXlAEMbAAV/SUGyrQ9pD0RgpNnocF8ks\n",
              "n3230XPBkRzRp4/5ssdmAKYLnfg92MPsyH1OZSCnfyx2unYu3mfm2FrcTLlVxC2Tp8NlA5iyakeX\n",
              "pilfBh0MsMPmxwOtF6mhQThXYatmuaMQ/1j3miMQcW7QbigzVGq8oY5l3wKJqAE62RGht5TDX1Ct\n",
              "a7Iljz8K/RymxRI/ewGnGnRPpe4IzmKRyh1KMWbh8DYXmeRnwYi9GEibpjSo0pPt0Ip5/hVO/wSk\n",
              "PqkKifxshEuRT16ala4qnb1KrWhmE1OLeP+t+QE0dp3xqmi8Wz23AEaOO5a1ltm9jk8XHdkZw9Nb\n",
              "+WLj/3KUcAUnrxeEPS2w+pB6hvPclJvxzIK79DDj4XfRVyaMPhJLy4snj0LgRtxVQ0xQOqkvDvKt\n",
              "e87QO3pVM6DYTvmh8kCirXslU+TP9uLYk/gTmreEdVK9TirXTs8KEWH7sjdtCpEAAADTAZ/VakP/\n",
              "AABKcyHIZpvGOLrlG1O1si5SsOLq6YlxgaKMABW8VeDpH/sOSv6Bi/X668kTtGAw2VjN8HEViN3K\n",
              "3jG6QY27InPHcyyEwlAHaJ9Q4lIHYrkxXTurtJg3596HJqzZgPlTElVh3eo9VUbkMbGzNQwwV1y/\n",
              "jrz6UvTRGuHgWMSg2YE2RkKfShSJDgkjpYWteNbABSOpiuJQb2tIr0R9R8ZLarQNvpiqTTCtCTjJ\n",
              "FATKfNeeJEXTssB+iaFrvpMnU5ptffnhQpVysLA4fwSz4AAAAbVBm9dJ4Q8mUwIJf/61KoAAHHfx\n",
              "EAN2bcvDXhZ9CyjltAyrsKCI1mrF/a4wpsc//JSC51UwWsL4NhDjgfVkvhfauPMpOKH81LOJxhe2\n",
              "Iei8MrUQaZP4ZvrNlOI4K158gXemvOo6xzKgjIiTOBmgBb3Em7ROpEg7QpGn9BianbYAePsZ7Gl2\n",
              "x614GkLWsrwMF10dv70RL5I5rEPZY181IZGdu0gHwFhAtl1O5IzZxVQ0qCteLOm/fmYxQ6vjXE4p\n",
              "qD/hCn5ibPoU0LCGBRpe0p8EujMUVy34NVl4zQv049lGjwxQVTSXMz/vLqLFtmbwXx9Nr4LeAefY\n",
              "UGNpb6oz17rXAtTg30NLxvD+fLXvUvawkWRf/y6OSQJLbgMNU66z29AGFa5hxHeJq7HIRzxwMhCK\n",
              "4rYE1KI0bVVTYbFrdJOOMatgjmIJwQ2tdzXGOCmBr8AWNyZC0bXyrm/sheIR2avv3es2a9A9VSdb\n",
              "nsy90bb5UI/PhmqdT8OWJhXBMEbiwTpYmfEF5syULczkcXFF8lDYMVHC6V0kK0rqJ2Fn0arPx5yQ\n",
              "NYEMtHdHYhTcwUqB4mK82ECGgQAAAb5Bm/hJ4Q8mUwIJf/61KoAAHHfxEAN2cohF45/x0GTaFlIN\n",
              "RCOitocnF6q+qTMm+ZJqhHjjZr+F5vNOZMEXHeeW75LQ1rqeyhAIzPC/mIGQ3GgCQEDBwuwRBJdx\n",
              "N+CcPuwLG/HSiRoE49vqQYBH0qgapZk8/e6JJhOnRumWJI/7vonY59YcFQqptm+zWIczvfqjn2m3\n",
              "xHgrgNbsgsJz+wPqry2BSy1JkIZkib1IFOZhAACYlfj2Vaofoy0SQdqg1BZzuUj2EihcwPRn+cjD\n",
              "VmiW8ss5fsXYulErUlK3+PYhgWip9DqXXjjLXVdoWYs0vh3DMNvF56zRUTI7iHqGIyORaly9O9Wp\n",
              "RsXJW9IKwPYuWyR3B5B61DcwmgKB/33dqrK/eAm1NjBNJKnae5uEcQH/1HRsJT+luKm7xzTbwQ0+\n",
              "JWSfJEfsQXG2mdxLXgqQuJwur8YNpHduM88axlQsZNT3nRzUEHcqjm1fxMhOCXglaDlL/98fr7ob\n",
              "hWP49jEntyKYflcD3fwp8EnHeLcras0ZM6yU4djCtjqCApGff/2ZPrQ2dc6bjseF8NqvJU7yIN3W\n",
              "6HZ6wBDZSd28q+jU3QAAAcxBmhlJ4Q8mUwIJf/61KoAAHHfxEANAf4YFIwyKtxKAAmrduUjQugx8\n",
              "jaDiXy9MX+znEB7jwZ7x8+XazMttEz4z14xQz39uMrvuVGqsNjrmjsnjbg/Z+PB/3MZ3027V89mo\n",
              "pkbkoU1Iq00s4u4L4/GtNOBsjPQWj1BPjJyY2Z/GTfvpQbfYZfxasoHDGR7km8YLzyAD3QifzcL6\n",
              "8AP1+U8UmvlRbO4lgY0ZSoafeen+UKr9z5L3E9ljNQSqMRwz78NVVCqlxPrimFa8dBCaJdc8wTI7\n",
              "FxIyy0jZAkF06UKO2w2ylgJkC3DbMivQ3KV6RKesBMzZ8xEm3aQs6gB1IMtRYv3aYSntOzFJTurT\n",
              "8R1dbch8zNVKwPVwYFEUr/Gq6y1btoxdOCBNHrqjdqBuKMiEg2VwZFIit9gaH/4L3bMuTEq8EPPd\n",
              "p47EkAXZ7vrBCQ1bI8og/Zp8yxGeIHoqWWq2octDYlDkebt/ewr4mgVLivyIHwd+nB8hRYkYE3Y+\n",
              "dOaqJa3TXv8d1UIncSpHkexJLpPgHcMyR8fJegJ1eUqzZYF5FTQrnSdx3LX56vmA9ThBhvaxZ+ea\n",
              "r8QU8eUkrB8CdtZnxquycgQRyVEDAAABk0GaOknhDyZTAgl//rUqgAAcd/EQA3ZwCDbq8/dxupnV\n",
              "6qi7KSX4g/KTLoBt44T2hP++RfiTyI7SPVurTOkhaWs8Grg+J1E2wa6Q1m7wIcHDYvFKKrg/KKYr\n",
              "rMskdrgzC9LmBXUVGbMs6qUx+VDueYBu9kRYwlxU0YIGAm5AwvGIiyYYt5xVo1Y5pPQjzjm97qQ+\n",
              "Y/HX8zM0h3+Ou14xrD5tQvwIEjp7rbN42P4sf3Xv2gVvbzFvWqbLq2XgywVEdRERAVtKd9rwlEc8\n",
              "oTIOQtC+GN4eO/fjd5DYHIP/D/VisrKfukvAXUEU47QsfaJqaFTpWArBk7nmt+9lG5R5orXrntxh\n",
              "bgDNi7lKEag66nsT4BYKVS2Sjg9jFk/8jy2I43Aa07vflCkEDumA3t2KYbCCu7X4emlYHPAGGnur\n",
              "39O1Epcb1wx9/7rB/RLKyKPSXCRDDVyh6fYXDSKQGeRRigsdfrW0PxUmq/VpWbZoxLksJKtEFqEr\n",
              "8MM2JMpkDhL393h4ptYKAZYrikNgo9BABc3d0bMAAAJcQZpcSeEPJlMFETwS//61KoAAHHfxEAKh\n",
              "LlUL4uisp8czLxWESz3lLho2XbIdBM7sGMwz3abctYVB7+9vRN3HjK7kI/M+nPNeCCeGPvzBBdKc\n",
              "dM1Nl8fBhDIPdwNs6SBMbOhNHJt3EDYABGRLRFH5PPtPtLJqRm8AD5LMx+EXsnaNAvCxZUfQEOB6\n",
              "k2rZ83uAXZ0eXplPMFsKdLOuy6UVXHuJLqTg8K7ZzJnBsSky6t2znV7kCPpW59E5Q1ATmhUEURDu\n",
              "YxagQWSRrZI9HKFKI3h5n3UlBuM88+sV3GoSUdlIda0TiEvXNL56ALboxxbh9Nm9Y22qtlTpARlp\n",
              "BFzl5lz37g5eQlX0h4YWgy2I8QA7Wx06jDgkM5v2PQGJzAUWiAMaNkW38u56FaFDlIHCziNBdC6t\n",
              "2TprKt1uo1LYbQdDNveTSXpH8v/oz/kJZZg6XSLuzjUuZQlWiUx/rszUGZclt+gwifTFQ3IKYkyq\n",
              "qFNOEG73Thlxz5LLofC2FWvv9GGd425RKzQI6RQiU5ArRyqPyFGND5hv+duComAaay1R8BsH4p45\n",
              "ds7w9Hz8wv7sasV50Dcd9BqotUIFJ60nbLHCTgRg+iBT/5yBkrEh/KgXXFxoKmYoIypdIyg3T5yz\n",
              "tw2fmtWRXI+ONO2rhwDxb0gN2IIUvhmJmQKNpEUHyIZopudGuQzCP+ovR73mFUnUf5mhH/EoCNkV\n",
              "7Dhmfv+QklftDCaAu17Vz3j8+a/XJz7Q7vl53prX2GIkX/F+/q/iUfPehH2xSanhVClpfNS8NKK/\n",
              "QyQwZsJkV/9ngAAAAK0BnntqQ/8AAEtR1mbeHucpGeE9MOGboRh+tLsHhMeAGvJeEmoWGku2etZ/\n",
              "uFywEBZI2PN5gbFzlb9TJ8u/HEpLhbX2BprqhHgRzq2UmeppuA2ifYiVCk2e/UEcKaYiz6z6L6F6\n",
              "ieaA5qS/FRkLnoDqOMzXrwdqSE0z47vS2ntSlqQquh+KwOVl01OA3JiHcJMAz25jX5kx0j2faLdo\n",
              "R3Drfy2l7VEp52yslEjXKwAAAahBmn1J4Q8mUwIJf/61KoAAHHfxEAKkQiNXtfo9I24+aztiYiT7\n",
              "/JUSNnvAN26Wm8NNQHbSuW/CMTTCuNuVehmJucKS5xw2it+SjIyCQWB2G256c+lkT5V87Hq1wsd3\n",
              "bBZKsFqs7Nn07jjQyLLt6nJwHVmuB3lxOPhtaORjahw2YDbqG23kSEs3qs/rrj4fCMgq4PTZgJyk\n",
              "7/pLWNMID6bjFZUygkoiGIrwX7/ASSZ+zuPShup+hjoJKJMPstf+nERrw0HSiDkHQh+6c9YX99ox\n",
              "RYzGdwnQcKEy57XClA/g+YzpexdAHmOt87IY8JSNobzVGiEB9tXYUG1iwYDIMDonb+DGjbWzM+yc\n",
              "RsJx+Aw/o/U5/RnxK6wqr2bX1VEFaG4YWLP2DdQ4xK+VRckofQZNzKSERnWJjf75jPpCdczoWivX\n",
              "6vinvpdB7B+Dz4IB5zfNBYZErN4tJyFr8Dh1Kf68PKb5h6l3wD85f2pWJwQEzRjDXPRjtCA7+hEL\n",
              "oXp076Cm0q2jOPsW7fhnmwx80G6Ho4uzr/IoyDLfiyCrA77LhlUeqZLITQd1AAABTEGanknhDyZT\n",
              "Agl//rUqgAAcd/EQAoJZ7nd7B0yc8yiCKSJljfWImAGp/BdI4U6xx9xzYO85sY9Q0MIFM/OlsECe\n",
              "8lu30hrqlkAr2Bk7vLuHrWPjpkr3u7pkFF7jGAuo20PYvMGqbZvz22Ad+3gZyJi0O/M1E0mTelag\n",
              "uKMhsjT9m/ov3SAI2tVUt+zA1GE0iDRKUe1F+Yb9Mm0PyOU/UlUM0NtXCEO8DNikX+Lyh6XnJsLR\n",
              "ojWegVrm0lu+CJDSRBF6SkYP8wMdDD5wqOH1VamXLJKNXYqng03daL4LhIGegE7BIpX35mqaJbps\n",
              "Blonbk7b4srHk3i0NV8Qg6qpUivDm133xq481cxCWEaf8WgZvXpxumdwrGL1OpMx1HsglD5QN7DT\n",
              "wLciQY2zVjd1D9Bfo9ZaVEt2yWSk9RsbIfz0OIec0pjIkFCYqiJIAAABjUGav0nhDyZTAgl//rUq\n",
              "gAAcd/EQAoC7dgFBcnSSgHGF+yZwPwKsbGpJIXobKIlkkdq6t5Lh7agMXG97uycQ6VFj4dfk7ufX\n",
              "hb5EPv+2dYx6SDO2uf1w6TLSUTO9WUPb+0SgLAWiUrmrEjLA7qB1XMorLbc/fmq7A6/4RgBmOG4i\n",
              "4qMoYGE4kwSmWLqAvl3ekzpT3iahWkwcbU3yKGtbuyWXIe7wa0bvg1WdHX9zW9Aqis2geLNDYsUv\n",
              "rSxvI1hxfoP2yIVdPRzviCR1VcoQWKIdHcGH3cJP3eV8jUcRDXI0LLUqUw18m/iQBgh8kIrVEfeD\n",
              "nKCnSpnrjDF6cPRPntf6nDOLXfWUo494IffnnhsrFYZuHjsMce2ZNUzpU9LULBRXmRXlcrTVzqly\n",
              "LM7VriX/9bXN8P6MpA+aBLRZwCROyxAA7sJtX9tdjqn7IrpAVj0OWt6u8jul+mgh2lEoM6qhSu/i\n",
              "1XU5dTmkg3itU5HkozIZhvVGScCaDvCnm0qHnR1ck4Hnf9oOrmxmriAAAAFcQZrASeEPJlMCCf/+\n",
              "tSqAABx37pAB89jc8Z5jJPfdUcQEbbeAXi0LXQDue7qjG1fF56AiafJAN3hBwGBXTynyafunXw6c\n",
              "NB3Fq0m9t2u28NbYwMIw/RW9imGUo6RZf+TboMGJeAYBQv4WbOzfcrziSTRwixzWBskade6u1Cnj\n",
              "pMp4M4aQO1eWyUXHqi4CHvmoS8mIq8g62R/p0SG72T/RXO9ycKRbza4dxxL60ZifO7M0Viv7MV7O\n",
              "TSY7ABJ+9jiWQKlON5UURb/4jLlUihBhKfJPA2OxywPgyjisFcx+Yjak7jp3DcsdiBt3uRbKetSA\n",
              "G5K7AoIQHwVDCb9P+Xe1FG8Po9nIqsYuMJfcW3nV/vc8xvQDgNae6ENUszq4PV2UhoeiKgV7qjRO\n",
              "qW5ZX9CQYqe2L8jN6SP2q2xEB+leGwWgOYN+vu6k6RzlZYP2HrSZc4eIvjyI5nVgNODVAAACEUGa\n",
              "4knhDyZTBRE8Ev/+tSqAABx38RACglpOHbmYt83sJl57Yv/bX8ujrH2xJ6/oixlBr2mj7h+GQ7Bp\n",
              "KIeV0Wz20SeRn7b/mvnhp4YdpKGZaJsjTnkKqRFOTEZYVO2+oT7FcmkOdhHUqXeVrs5ZL0MpSGsV\n",
              "cZU8O6AFBnYG1gm5bLFtHj4vRj3S5IEDkhoKveQ5ykCuvM7aYKy3C22Uny8BblEhN4bzc/YEdEYD\n",
              "e1aHNE5G6IHSLgRYJu0StSzJ+g/KfDQYzyqyS1R6YED/HDdYVV1neZCi1SSoVjZW+llrCj5FzEEb\n",
              "nQ5KVRG3fxVgKu3cZrQkrtrD76/a+v5WCFBC6Z9BqhZ1NGRApD//8iHGT5F7CtjD3rr47CsFjiam\n",
              "Ri1hU++TNqEpV2iP6ENUkajLd2MYM1UoBLEoONP4OGwDSfqKfw8hHdgeMFi0SNv0Y6f+MhsW/rJ+\n",
              "Lemd1abdzF5cmqiNo04CxvbE+krFCfql3e76bAcfIRLG3T0ClJhiaX+51Lq88Q7s9uU5hmXnHTGw\n",
              "2YB7GWdzO4NPQYDm9ksgKycMv/491Bf6fPw5+mCIfUcmVctK6AvvkPjbuzkAK2zrxcFyjbsIcaju\n",
              "WMV6XBUHRz0UJJkaYm0UYdZHcoG9CguQyNFKak2Dp3Kyu8iXeh4mV7jzxnCyd18JtpCsToHTcxdI\n",
              "rYW5Bx+b9K9c/pPedIAAAACUAZ8BakP/AABLUfKRmEyORykiDnGDI/lRBQVuHH+7jfP/mK+Ywmo9\n",
              "oeZLyoD4X8haI5e0iYZTmbjJOAq2nn5CswfsOIt8S0W90bp/WT+V8fvPNBx6/79fCS7VMnwC69WD\n",
              "jggdOxqQ6NWdnZvSWcwtFtBnFyoNhOhY2tLB53VfWI0Z5iXOhMMZcmzBxlC9qeDepzE6MQAAAjlB\n",
              "mwRJ4Q8mUwU8Ev/+tSqAABx38RACATkMyZRhYbp6OF0vB5PtD7PHdcHaseRdTjxIG5IPU/nCJ1Vn\n",
              "WOX/MxrQ9tX7wAhxmCLJgqlm98hR149mDpbkwOs17RnoHGGJdumYeGcls+jTjRzCpB9lS2ZFptau\n",
              "f9+B9qniczpaKryYA/ZvBmuYss8U+pcbqLm7u3R8xvkDG3tkWsJmJA1xj8sTPxTzEdJTcBxUIwuw\n",
              "hysjIiAlsity+PKGixi9MY5JoYRxMos2Vq5g/U58+ko5XwKWxGBURaVBZA9wInTKtMv2j58T1ffT\n",
              "61TIkLd2BikNQ9au7VA8OKLAB6QlfqGo7jzXfj3tfeCZmBl5omfBelGHP3NnYtPQQPYSRcI6hQpg\n",
              "WA3JtYHg7u9QDaQSPinhoMVtaTjk9+Afvrvetg8DlHSNIFfHIjW9Yi6Ve/edEIsJ5xksHOQLvsVD\n",
              "c2cmpZLNw2gl824vUXthlV6WeD/s9rVkVXehPJaoId8XQIEh3xLmr332Uloegf2GV2VkpyatHdoW\n",
              "gVj1q9gyDcR+4g4X84OGSP3UPLMc2KqpgzWHIjvDqa7kfQDPzoxRCAuclFvyx3AILB2vnaj0VvCg\n",
              "o6ceGOcr/YnSdD6CuZhgeuyvtY980n1vUO73qqiFyG6e6ywPhgqGva04DKLiSKWKJxa5Ay+ECS3p\n",
              "EWO84ThuHQ2P7+2XD1ZzgwKFYrFWQJdz2zarJVgLtH05ybY7A4c265vUllTxWko8mIXqnZtadQAA\n",
              "AJUBnyNqQ/8AAEtR90BTgK0TUr1CibQLGVtrcZh/unyokVKZoASz3KZL64oXGV4Gr/JyLsnLhCht\n",
              "2PpnvadgMGn/CKtqPmSh0hNKfKQgGKV6IZ3x9TzN+TGBCwHoScMtaQyv22oEK+tjXR2uYz4+gIT1\n",
              "2L9ZA8/etCQ2qE6Mm5ht5meH//O+7kEzE84UeUaPiQBy5K14wQAAAmJBmyZJ4Q8mUwU8Ev/+tSqA\n",
              "ABx4No8ARK4oi4Oyqafa/9j9E/fAgn9w+cRz6yyJ5VThdfQ4e+2Q9uP82oKlxJ8if4i9zXPgiOaT\n",
              "00JAl6ISmX0czg0JdAJrlO2+1ZhEJxEg25tXniIrljdX3arcOK+dSP4GY11hjT9im+67pjlZZ8Gv\n",
              "MLr6mPX2CsJiNhrQvPQX0B+rkyzZx67C2iNucz16dme7yLcaDnqWfrvuL81ALbzPFtKzhzxS1Jt6\n",
              "AGlwZRur3QdA2VQPSWorf3fyPeF2dWMQvkSnlLB80YHULiFya2nDiIL/7Z7tq4PiX3t4HEgsVq2Y\n",
              "kZ+DXRoippkQG6JVnMmYDAW+8bjRsfFSsapUGV3eU335WkIRvAOLy5MNREOXZbsYsH38eV2Z7qG6\n",
              "kcd3A+1AorhOkIUYgdiSGFpV7c5UVSBv1fbIRWmsGQNsm4G3Y5+LAw+a7fo/vkyeLrqTKeWgvEl4\n",
              "B4qEEPk9hdwpJlzBHQeqeeErFRilZe9u7FobcQaqiy7vK2qLc3SOb06vbvQlSO936UUKWe7oZslI\n",
              "fb+leav6JNEdQA+90vvOkOc2K7Jz4+2iau1DIUmbFow9ZPPmiC+/R/xXTA/293/+x6dy4dCxj+DQ\n",
              "Gn/Ac8JoPwfZnT58nWb21kNbVdCuT53I3f++USIHIlazD+imdXICYXhtiUMfTyq7Il0C+1AF/951\n",
              "CYIH88VhqYMdTyy4s1iZSxk39LQTyfnA8z+dCuv09WA+Jx0HlHpiiegWfxiyWQkvsatjEqGqCajQ\n",
              "YbG4G0Q1WgeffTyk93Fl2rdDw84BkxjBAAAAsAGfRWpD/wAASxhyYpN2S40bepcUMNMWHGADvaDq\n",
              "mEu8GIJ3z0wiDFlwF9UG3wi42DaE1AtP+Ke5go/tNNf66trs83LwMK2QDWCbShEN2NI4Mh1SxZEB\n",
              "U3DJild60vVGigSRPbgIDlpFmPmsW0DBONYmNh/ewtp516rEePsdXdHViFe2w1jLKSumpjNd5ZiL\n",
              "c9vmGqgycevkVxKpin/OxwKFDhtJRHUNIeZgQpE3gP0VAAABaUGbR0nhDyZTAgn//rUqgBIGrYdD\n",
              "liMPUgAGiGj/K4uVEbIz/+Kxfivpm0gj9leeLC70NGKk9ylukz6A8VEz5YXB3i71zdwbfi7RT0DV\n",
              "On+wYir2LQVo2E5IsFY/IeiOW8arXQYIA8Xo9E3fCemOSnFfPf70vmfu4t8ut9TfuQ/8c+pJlYJM\n",
              "3YlnTefa7emZGoUr8XmSDLoX5XH9v1WtAI9QwSWxceue7nbHw3wXar2ABHTOze5273IY+SohOlqr\n",
              "0gdadByFN7BaVoaU2mC544Ean9nGJns9AuLfsRJXmRu5G9B/+WW1racBfHapc7C6YFMi6ucn+beH\n",
              "pE4PusIW8boxa0Mx5X4Dmg6CsyvsMIntPfdeBTb/Bpf8D+Q8zlR+jhlFP37qsP9kLJOplfuxZbAd\n",
              "GF8YLKJ4+WlkIkE6ToiH2jN4eM61awQ/VJL/1Inw23Zjz/5V52Ej8BXKPN1TZaG392jviPff8ZEA\n",
              "AAItQZtrSeEPJlMCCX/+tSqAEx+9gLC8kXPWo3ABXGJpGcTaAAGi/R11o+EuffNDBeWmVhrHHHDC\n",
              "28lWYKeAOK1UqI3N7FX+PA3lvIRb51YEpcbNpIcTg2Q+P0hhPGs2YJjBLxkbgdYCSH1biLLlyWnJ\n",
              "G2kAX3K73m3cfi7nJ6ZF/kW7J5AyIXwReteypMwFuMHk4z0r6TaQVDUlcBf4EH2CWE/zth+vPcXE\n",
              "08iliObDZv4wrFTHmhzQPxsGt8ioDwZIh8SWf2ZENnCDugVNIwA1hzahOWm69jGVgXnl4IokfvHc\n",
              "7TpwIIiKbXFs0EDdIeC1nVQz5ls2QkcJeirCRTsiAcCkr4+WDRBkIjHXew4nKMgmvYObrjBd1NDv\n",
              "91Ehj5CyQkw7d6ekG4CpfYqQH3wj0C4GHzzSTnYhnWeG/wYyVOXZb3xtCiQZZsaNpkHOvw/rDaQv\n",
              "x9CciNjZRsb3VgmdSqkCJvs3bAESUoLIiQ2z+gY4YGLE5Qlb1xp0kNHo+tDa7Kci4dh0VfeWP1Or\n",
              "Toe+UE/g6EqpXJhDmEYfKN4HG62seCPO/Rwl0Elo9GQjECfvCebb8NZY6XFXh0+cYM1MlSN76O9u\n",
              "gHOmLqfWiO50T8zH5Z+1B2eEk+E6RzOwAvE0tDUkIiffa9Qd9uUEVPZrYWX1RizxCvj29STv/dM5\n",
              "y56ShvUziMXAuhuh5TmCf1TQ8cT0RNC63qNf1gyl6ylpjbPO+heBvOmIj6oXMrcAAACvQZ+JRRE8\n",
              "EP8AACGk+1sMrtcDkxzfMK4USkhlhvkAAmX3KWqYk1cJEe4H/GMixt2z38ove+r5sfZNhlGKk1rM\n",
              "6NUkkUSfRbkoK3jWDKStVjuzvlFoHkIjPcw6QvFQeajJAYvHE1JC3pHwmElhq8g8x/joU27MsQ1q\n",
              "51bO5yACahEK2xHz8XHeFxH2Xyy0xFKdJaZChou130Na7ptH7fumTih5VxCRuQBNCg2jJdoN0gAA\n",
              "AHcBn6h0Q/8AAErxUGMY8ZcXmPS7mqbpmADt5G5vUqh58PC2k84ccoLeI3MrwkvAOeSqhN2Rjd7R\n",
              "I1UTw3Wyo+rutaaxV03WA7dk8AeEhzGMqz2oRctq8hMzr1iVkva+gPk9ZC+eWFmkoINYsRpaI8WD\n",
              "zLOKq31TkQAAAI0Bn6pqQ/8AAEtSCglttGEpUv2Kro50f2AEsh9A3L961xrquRGkHoy9/drERYNG\n",
              "MSblnIvGrG9bYSwrIBQnZtdF6lRP5hhNJjE6dv/Ist/dTwZCuQ0imGKbXk7GYbhg2b+7EAIenMDM\n",
              "C/iJxkYfiPagfgrjDiYbHE8TNSb6DspdV0OfLO5+sEgucMaoLLIAAAGeQZuuSahBaJlMCCP//rUq\n",
              "gBKGd8Yy10dPfNABbqQK47FNg3Pd7ffIYGcfybn4i8hhAJFkTVfP2TX+Om/7TsZfzG0L7t23dW5H\n",
              "zuOm/mkr1yO5r24AXKTvh3LXxGtB+3F716h9LzzMALniXRw9UzlNF/aRZo3XzcxZ577bxuz+ekBU\n",
              "Oqo4kvB1wc1mdQde8sDP3WzyUwI8NYmT08RTnmOR3fBaPYLYbiDLQmfEeBVULe3y4Yf41Q84r8eZ\n",
              "J3k7KLQBrPyenqXYOrBnPSlSXTNnugH71FhkivrqZK+saohqCHlEnf5rOLBDuG62M6w+xcCitW2e\n",
              "xcNyXvv45vudAIA08pj5GRCUo46m3rn7Xtjp01NKlOawiQA807Ow5Iy3q0Fnyp/GJobr8ZGVU+px\n",
              "pKRRRioWh8lI02UIu0gE3ZqGalF4Nx8wOrMogS4fruE/chpqjXF9c5R1ApOlczc+w127H4es77p7\n",
              "qnZFnlFdQPo6vEc2sR00EAlaScE1k3ezKs7sL2q6Imsm3PeMDge8wBswkPGFlo9pUYZZsqP2tXrY\n",
              "AAAAuEGfzEURLBD/AAAhiKhyY4qaA+BraBIFnqlWu+xqViE4PArhqOiTjRSwIFJhPyhcVFaEHp16\n",
              "viKHOauuGAtQDU1UR0HU9IUAGueapSUgYDLc4mqkhcaVcmp5dz7LlHu2LWRB6Ugn2vz/ylq9KP3c\n",
              "r1hi82maSYY9DELRRQjc9ZJfbsWzNSzv+/7LxArUB3qN5IaUtMY8tr6b7ZNy/HqNDds3erqB0vS/\n",
              "v2J/jVPBkO+2ptO0rb7y+usAAACgAZ/takP/AABLShuN/pZJ2tZk0zegAlN/UyDp/cVZgrv7faWd\n",
              "EL7ugXucpNJrYlUGwJ1OvjoYE46GC99UBU9KRDTgYvzy3UNKT8UkBflwyISEx2nZ4mxrEiQiOvKY\n",
              "U+2b99dxf7x+Joqudxc0fEGkrcl6ZYLVlewdEbOc9udPOk5K91a1H71kY2CGh2uRj+5oWS+eg7hU\n",
              "E0JK/IgyWTXpwQAAANxBm+9JqEFsmUwII//+tSqAABvNh1AAmKyV0EVpOnoJ72pncmNJ1p8DcaDo\n",
              "O9FDZ2BqFyTUgj/psYq0nd+VTN2mdXv5A4dCYl15HWjImJ8ZMXfWPncFc6E+WpqQ1qEdVSzx6HEc\n",
              "TWMqsm9GIYecu9WbkAnY1n7opaJ+QdRmta8eJ1aBBIGy2MZqIiUPrtUNMRcFi3rNtn6qzSLMujka\n",
              "IivdN4tz6pWTio2/roCp3Z658HWho5nuJRJDSL09S47vPksCEc/2wlY4BM1VWGnr+76hl3XWRaUF\n",
              "7zuA5hFdAAAA2UGaEEnhClJlMCCH//6qVQAAN5Q+AAErjdPYe7hjfmVaA4uFLSCyjKwVMoBAfyFm\n",
              "Oqm/hgZZyEB/fcOHAdvmCyUSSP00PPPKIyww5AOPboFN17xDVZWMVbSfp4Zo0wT4ivYvJ+vrgQXn\n",
              "ttPG1PAZbbDTIXZBptyV7y6UTrLYcuQtwXzT5iJgJ7H3vfJGd5Hw/TUcO6akDn9jvMYiPUXwIRcw\n",
              "NZ70+XhgW28WXsXYc/zlIViH4j2qBkTgE+vctimYflmW/HxTeSYtvdeAMaYmEogSYn7uOn3N5qIA\n",
              "AACSQZoxSeEOiZTAh//+qZYAAN4s0Zemc8ghqW7HFEigA+LpObpKL1rGgwEi0f7NqfS4RVZqmeBb\n",
              "xzgNTm5SwHTTNG/1/3/uU/INR6BCjp8oMsM/d3HaFKF3fwji7t9tN6e+h4HT/x4e6fAg1yp1aX45\n",
              "sN+GbH5+3nmpEMna7rAARBT7suT3q+DSUfoqFwpQVjaHXxAAAAUubW9vdgAAAGxtdmhkAAAAAAAA\n",
              "AAAAAAAAAAAD6AAAJxAAAQAAAQAAAAAAAAAAAAAAAAEAAAAAAAAAAAAAAAAAAAABAAAAAAAAAAAA\n",
              "AAAAAABAAAAAAAAAAAAAAAAAAAAAAAAAAAAAAAAAAAAAAAAAAgAABFh0cmFrAAAAXHRraGQAAAAD\n",
              "AAAAAAAAAAAAAAABAAAAAAAAJxAAAAAAAAAAAAAAAAAAAAAAAAEAAAAAAAAAAAAAAAAAAAABAAAA\n",
              "AAAAAAAAAAAAAABAAAAAAbAAAAEgAAAAAAAkZWR0cwAAABxlbHN0AAAAAAAAAAEAACcQAAAQAAAB\n",
              "AAAAAAPQbWRpYQAAACBtZGhkAAAAAAAAAAAAAAAAAAAoAAABkABVxAAAAAAALWhkbHIAAAAAAAAA\n",
              "AHZpZGUAAAAAAAAAAAAAAABWaWRlb0hhbmRsZXIAAAADe21pbmYAAAAUdm1oZAAAAAEAAAAAAAAA\n",
              "AAAAACRkaW5mAAAAHGRyZWYAAAAAAAAAAQAAAAx1cmwgAAAAAQAAAztzdGJsAAAAs3N0c2QAAAAA\n",
              "AAAAAQAAAKNhdmMxAAAAAAAAAAEAAAAAAAAAAAAAAAAAAAAAAbABIABIAAAASAAAAAAAAAABAAAA\n",
              "AAAAAAAAAAAAAAAAAAAAAAAAAAAAAAAAAAAAAAAAGP//AAAAMWF2Y0MBZAAV/+EAGGdkABWs2UGw\n",
              "loQAAAMABAAAAwAoPFi2WAEABmjr48siwAAAABx1dWlka2hA8l8kT8W6OaUbzwMj8wAAAAAAAAAY\n",
              "c3R0cwAAAAAAAAABAAAAMgAACAAAAAAUc3RzcwAAAAAAAAABAAAAAQAAAUhjdHRzAAAAAAAAACcA\n",
              "AAABAAAQAAAAAAEAACgAAAAAAQAAEAAAAAABAAAAAAAAAAEAAAgAAAAAAQAAKAAAAAABAAAQAAAA\n",
              "AAEAAAAAAAAAAQAACAAAAAABAAAoAAAAAAEAABAAAAAAAQAAAAAAAAABAAAIAAAAAAEAABAAAAAA\n",
              "AQAAGAAAAAABAAAIAAAAAAEAACAAAAAAAgAACAAAAAACAAAQAAAAAAEAABgAAAAAAQAACAAAAAAE\n",
              "AAAQAAAAAAEAABgAAAAAAQAACAAAAAAEAAAQAAAAAAEAABgAAAAAAQAACAAAAAABAAAYAAAAAAEA\n",
              "AAgAAAAAAQAAGAAAAAABAAAIAAAAAAEAABAAAAAAAQAAKAAAAAABAAAQAAAAAAEAAAAAAAAAAQAA\n",
              "CAAAAAABAAAgAAAAAAIAAAgAAAAAAwAAEAAAAAAcc3RzYwAAAAAAAAABAAAAAQAAADIAAAABAAAA\n",
              "3HN0c3oAAAAAAAAAAAAAADIAAB7XAAAHgAAAAgQAAAGBAAABfgAABj8AAAMGAAABIAAAASEAAATy\n",
              "AAACfQAAAPsAAAD5AAACXAAAAm0AAADxAAACNgAAAT0AAADpAAABKgAAAWcAAALPAAAA1wAAAbkA\n",
              "AAHCAAAB0AAAAZcAAAJgAAAAsQAAAawAAAFQAAABkQAAAWAAAAIVAAAAmAAAAj0AAACZAAACZgAA\n",
              "ALQAAAFtAAACMQAAALMAAAB7AAAAkQAAAaIAAAC8AAAApAAAAOAAAADdAAAAlgAAABRzdGNvAAAA\n",
              "AAAAAAEAAAAsAAAAYnVkdGEAAABabWV0YQAAAAAAAAAhaGRscgAAAAAAAAAAbWRpcmFwcGwAAAAA\n",
              "AAAAAAAAAAAtaWxzdAAAACWpdG9vAAAAHWRhdGEAAAABAAAAAExhdmY1OC4yOS4xMDA=\n",
              "\">\n",
              "  Your browser does not support the video tag.\n",
              "</video>"
            ],
            "text/plain": [
              "<IPython.core.display.HTML object>"
            ]
          },
          "metadata": {
            "tags": []
          },
          "execution_count": 49
        },
        {
          "output_type": "display_data",
          "data": {
            "image/png": "[encoded data removed]",
            "text/plain": [
              "<Figure size 432x288 with 1 Axes>"
            ]
          },
          "metadata": {
            "tags": [],
            "needs_background": "light"
          }
        }
      ]
    },
    {
      "cell_type": "markdown",
      "metadata": {
        "id": "Dj9KfgfnGUbn"
      },
      "source": [
        "Visualiszation of error values"
      ]
    },
    {
      "cell_type": "code",
      "metadata": {
        "id": "_1SlEmnWGUbn",
        "outputId": "18a982df-8681-4454-a622-77d57e87bdab"
      },
      "source": [
        "#Plot the regression line upon training dataset\n",
        "plt.scatter(xtrain,ytrain,color='b')\n",
        "plt.plot(xtrain,(m*xtrain+c),color='r')"
      ],
      "execution_count": null,
      "outputs": [
        {
          "output_type": "execute_result",
          "data": {
            "text/plain": [
              "[<matplotlib.lines.Line2D at 0x24f89078c48>]"
            ]
          },
          "metadata": {
            "tags": []
          },
          "execution_count": 50
        },
        {
          "output_type": "display_data",
          "data": {
            "image/png": "[encoded data removed]",
            "text/plain": [
              "<Figure size 432x288 with 1 Axes>"
            ]
          },
          "metadata": {
            "tags": [],
            "needs_background": "light"
          }
        }
      ]
    },
    {
      "cell_type": "markdown",
      "metadata": {
        "id": "yitGE7qCGUbo"
      },
      "source": [
        "Plotting error values"
      ]
    },
    {
      "cell_type": "code",
      "metadata": {
        "id": "x933qcjnGUbo",
        "outputId": "28cd122f-84b0-4681-c4cb-bcad7567e639"
      },
      "source": [
        "plt.plot(np.arange(len(error_values)),error_values)\n",
        "plt.xlabel('Iterations')\n",
        "plt.ylabel('Error')"
      ],
      "execution_count": null,
      "outputs": [
        {
          "output_type": "execute_result",
          "data": {
            "text/plain": [
              "Text(0, 0.5, 'Error')"
            ]
          },
          "metadata": {
            "tags": []
          },
          "execution_count": 51
        },
        {
          "output_type": "display_data",
          "data": {
            "image/png": "[encoded data removed]",
            "text/plain": [
              "<Figure size 432x288 with 1 Axes>"
            ]
          },
          "metadata": {
            "tags": [],
            "needs_background": "light"
          }
        }
      ]
    },
    {
      "cell_type": "markdown",
      "metadata": {
        "id": "S3kRSqm5GUbo"
      },
      "source": [
        "# Prediction of prices"
      ]
    },
    {
      "cell_type": "code",
      "metadata": {
        "id": "h7Bvf48pGUbo"
      },
      "source": [
        "#Calculate the predictions on the test set as vectorized operation\n",
        "predicted = (m*xtest)+c"
      ],
      "execution_count": null,
      "outputs": []
    },
    {
      "cell_type": "code",
      "metadata": {
        "id": "QwDjVocpGUbp",
        "outputId": "564ea632-77ae-4c5e-fb88-d044db693fe8"
      },
      "source": [
        "#Compute MSE for predicted values on the testing set\n",
        "mean_squared_error(ytest,predicted)"
      ],
      "execution_count": null,
      "outputs": [
        {
          "output_type": "execute_result",
          "data": {
            "text/plain": [
              "0.04093467522847435"
            ]
          },
          "metadata": {
            "tags": []
          },
          "execution_count": 53
        }
      ]
    },
    {
      "cell_type": "code",
      "metadata": {
        "id": "tN4kQCKbGUbq",
        "outputId": "1b63c289-0a57-4047-f527-8ff8e0062d3a"
      },
      "source": [
        "#Put xtest, ytest values into a single DataFrame so that we can see the predicted values alongside the testing set\n",
        "p = pd.DataFrame(list(zip(xtest,ytest,predicted)),columns = ['x','target_y','predicted_y'])\n",
        "p.head()"
      ],
      "execution_count": null,
      "outputs": [
        {
          "output_type": "execute_result",
          "data": {
            "text/html": [
              "<div>\n",
              "<style scoped>\n",
              "    .dataframe tbody tr th:only-of-type {\n",
              "        vertical-align: middle;\n",
              "    }\n",
              "\n",
              "    .dataframe tbody tr th {\n",
              "        vertical-align: top;\n",
              "    }\n",
              "\n",
              "    .dataframe thead th {\n",
              "        text-align: right;\n",
              "    }\n",
              "</style>\n",
              "<table border=\"1\" class=\"dataframe\">\n",
              "  <thead>\n",
              "    <tr style=\"text-align: right;\">\n",
              "      <th></th>\n",
              "      <th>x</th>\n",
              "      <th>target_y</th>\n",
              "      <th>predicted_y</th>\n",
              "    </tr>\n",
              "  </thead>\n",
              "  <tbody>\n",
              "    <tr>\n",
              "      <th>0</th>\n",
              "      <td>0.000489</td>\n",
              "      <td>0.408889</td>\n",
              "      <td>0.410952</td>\n",
              "    </tr>\n",
              "    <tr>\n",
              "      <th>1</th>\n",
              "      <td>0.000961</td>\n",
              "      <td>0.413333</td>\n",
              "      <td>0.410685</td>\n",
              "    </tr>\n",
              "    <tr>\n",
              "      <th>2</th>\n",
              "      <td>0.003071</td>\n",
              "      <td>0.433333</td>\n",
              "      <td>0.409488</td>\n",
              "    </tr>\n",
              "    <tr>\n",
              "      <th>3</th>\n",
              "      <td>0.001180</td>\n",
              "      <td>0.335556</td>\n",
              "      <td>0.410560</td>\n",
              "    </tr>\n",
              "    <tr>\n",
              "      <th>4</th>\n",
              "      <td>0.001142</td>\n",
              "      <td>0.371111</td>\n",
              "      <td>0.410582</td>\n",
              "    </tr>\n",
              "  </tbody>\n",
              "</table>\n",
              "</div>"
            ],
            "text/plain": [
              "          x  target_y  predicted_y\n",
              "0  0.000489  0.408889     0.410952\n",
              "1  0.000961  0.413333     0.410685\n",
              "2  0.003071  0.433333     0.409488\n",
              "3  0.001180  0.335556     0.410560\n",
              "4  0.001142  0.371111     0.410582"
            ]
          },
          "metadata": {
            "tags": []
          },
          "execution_count": 54
        }
      ]
    },
    {
      "cell_type": "markdown",
      "metadata": {
        "id": "kTQNnk1TGUbq"
      },
      "source": [
        "Plot the predicted values against target values"
      ]
    },
    {
      "cell_type": "code",
      "metadata": {
        "id": "Q3BoJt3bGUbq",
        "outputId": "66f8ca0a-7b5a-47d3-a049-358d7cc3804b"
      },
      "source": [
        "plt.scatter(xtest,ytest,color = 'b')\n",
        "plt.plot(xtest,predicted,color = 'r')"
      ],
      "execution_count": null,
      "outputs": [
        {
          "output_type": "execute_result",
          "data": {
            "text/plain": [
              "[<matplotlib.lines.Line2D at 0x24f89080f48>]"
            ]
          },
          "metadata": {
            "tags": []
          },
          "execution_count": 55
        },
        {
          "output_type": "display_data",
          "data": {
            "image/png": "[encoded data removed]",
            "text/plain": [
              "<Figure size 432x288 with 1 Axes>"
            ]
          },
          "metadata": {
            "tags": [],
            "needs_background": "light"
          }
        }
      ]
    },
    {
      "cell_type": "code",
      "metadata": {
        "id": "qy7Pn2YSGUbq",
        "outputId": "56211cd8-8aa0-4490-f61a-77010ec8d4ea"
      },
      "source": [
        "#Reshape to change the shape that is required by the scaler\n",
        "\n",
        "predicted = predicted.reshape(-1,1)\n",
        "xtest = xtest.reshape(-1,1)\n",
        "ytest = ytest.reshape(-1,1)\n",
        "\n",
        "xtest_scaled = x_scaler.inverse_transform(xtest)\n",
        "ytest_scaled = y_scaler.inverse_transform(ytest)\n",
        "\n",
        "predicted_scaled = y_scaler.inverse_transform(predicted)\n",
        "\n",
        "#This is to remove the extra dimension\n",
        "\n",
        "xtest_scaled = xtest_scaled[:,-1]\n",
        "ytest_scaled = ytest_scaled[:,-1]\n",
        "\n",
        "predicted_scaled = predicted_scaled[:,-1]\n",
        "\n",
        "p = pd.DataFrame(list(zip(xtest_scaled,ytest_scaled,predicted_scaled)), columns = ['x','target_y','predicted_y'])\n",
        "p = p.round(decimals=2)\n",
        "p.head()"
      ],
      "execution_count": null,
      "outputs": [
        {
          "output_type": "execute_result",
          "data": {
            "text/html": [
              "<div>\n",
              "<style scoped>\n",
              "    .dataframe tbody tr th:only-of-type {\n",
              "        vertical-align: middle;\n",
              "    }\n",
              "\n",
              "    .dataframe tbody tr th {\n",
              "        vertical-align: top;\n",
              "    }\n",
              "\n",
              "    .dataframe thead th {\n",
              "        text-align: right;\n",
              "    }\n",
              "</style>\n",
              "<table border=\"1\" class=\"dataframe\">\n",
              "  <thead>\n",
              "    <tr style=\"text-align: right;\">\n",
              "      <th></th>\n",
              "      <th>x</th>\n",
              "      <th>target_y</th>\n",
              "      <th>predicted_y</th>\n",
              "    </tr>\n",
              "  </thead>\n",
              "  <tbody>\n",
              "    <tr>\n",
              "      <th>0</th>\n",
              "      <td>0.05</td>\n",
              "      <td>23.4</td>\n",
              "      <td>23.49</td>\n",
              "    </tr>\n",
              "    <tr>\n",
              "      <th>1</th>\n",
              "      <td>0.09</td>\n",
              "      <td>23.6</td>\n",
              "      <td>23.48</td>\n",
              "    </tr>\n",
              "    <tr>\n",
              "      <th>2</th>\n",
              "      <td>0.28</td>\n",
              "      <td>24.5</td>\n",
              "      <td>23.43</td>\n",
              "    </tr>\n",
              "    <tr>\n",
              "      <th>3</th>\n",
              "      <td>0.11</td>\n",
              "      <td>20.1</td>\n",
              "      <td>23.48</td>\n",
              "    </tr>\n",
              "    <tr>\n",
              "      <th>4</th>\n",
              "      <td>0.11</td>\n",
              "      <td>21.7</td>\n",
              "      <td>23.48</td>\n",
              "    </tr>\n",
              "  </tbody>\n",
              "</table>\n",
              "</div>"
            ],
            "text/plain": [
              "      x  target_y  predicted_y\n",
              "0  0.05      23.4        23.49\n",
              "1  0.09      23.6        23.48\n",
              "2  0.28      24.5        23.43\n",
              "3  0.11      20.1        23.48\n",
              "4  0.11      21.7        23.48"
            ]
          },
          "metadata": {
            "tags": []
          },
          "execution_count": 56
        }
      ]
    }
  ]
}